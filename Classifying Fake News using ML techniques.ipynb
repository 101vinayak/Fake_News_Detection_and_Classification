{
 "cells": [
  {
   "cell_type": "code",
   "execution_count": 1,
   "metadata": {},
   "outputs": [],
   "source": [
    "import pandas as pd\n",
    "import numpy as np\n",
    "import matplotlib.pyplot as plt\n",
    "\n",
    "from sklearn.model_selection import train_test_split\n",
    "from sklearn.feature_extraction.text import TfidfVectorizer, CountVectorizer\n",
    "from sklearn.naive_bayes import MultinomialNB\n",
    "from sklearn.linear_model import LogisticRegression\n",
    "from sklearn.ensemble import RandomForestClassifier, GradientBoostingClassifier\n",
    "from sklearn.neighbors import KNeighborsClassifier\n",
    "\n",
    "from sklearn import metrics\n",
    "from sklearn import svm\n",
    "from empath import Empath\n",
    "import itertools\n",
    "import pickle\n",
    "import spacy\n",
    "\n",
    "from dataset_prep import dataset"
   ]
  },
  {
   "cell_type": "code",
   "execution_count": 2,
   "metadata": {},
   "outputs": [
    {
     "data": {
      "text/html": [
       "<div>\n",
       "<style scoped>\n",
       "    .dataframe tbody tr th:only-of-type {\n",
       "        vertical-align: middle;\n",
       "    }\n",
       "\n",
       "    .dataframe tbody tr th {\n",
       "        vertical-align: top;\n",
       "    }\n",
       "\n",
       "    .dataframe thead th {\n",
       "        text-align: right;\n",
       "    }\n",
       "</style>\n",
       "<table border=\"1\" class=\"dataframe\">\n",
       "  <thead>\n",
       "    <tr style=\"text-align: right;\">\n",
       "      <th></th>\n",
       "      <th>Headline</th>\n",
       "      <th>Body</th>\n",
       "      <th>Label</th>\n",
       "    </tr>\n",
       "  </thead>\n",
       "  <tbody>\n",
       "    <tr>\n",
       "      <th>0</th>\n",
       "      <td>House narrowly passes measure paving way for T...</td>\n",
       "      <td>WASHINGTON (Reuters) - The U.S. House of Repre...</td>\n",
       "      <td>FAKE</td>\n",
       "    </tr>\n",
       "    <tr>\n",
       "      <th>1</th>\n",
       "      <td>Watch This Bundy Militiaman Challenge Chris C...</td>\n",
       "      <td>It s been more than three weeks since a group ...</td>\n",
       "      <td>REAL</td>\n",
       "    </tr>\n",
       "    <tr>\n",
       "      <th>2</th>\n",
       "      <td>U.S. Senate approves Chao to lead Transportati...</td>\n",
       "      <td>WASHINGTON (Reuters) - Elaine Chao, a former t...</td>\n",
       "      <td>FAKE</td>\n",
       "    </tr>\n",
       "    <tr>\n",
       "      <th>3</th>\n",
       "      <td>IS A REVOLUTION COMING? Former Congressman Thr...</td>\n",
       "      <td>Spoken like a true American Former Congressman...</td>\n",
       "      <td>REAL</td>\n",
       "    </tr>\n",
       "    <tr>\n",
       "      <th>4</th>\n",
       "      <td>WATCH: Trump Gets His Deplorable A** Handed T...</td>\n",
       "      <td>Hillary Clinton was wrong to say that half of ...</td>\n",
       "      <td>REAL</td>\n",
       "    </tr>\n",
       "  </tbody>\n",
       "</table>\n",
       "</div>"
      ],
      "text/plain": [
       "                                            Headline  \\\n",
       "0  House narrowly passes measure paving way for T...   \n",
       "1   Watch This Bundy Militiaman Challenge Chris C...   \n",
       "2  U.S. Senate approves Chao to lead Transportati...   \n",
       "3  IS A REVOLUTION COMING? Former Congressman Thr...   \n",
       "4   WATCH: Trump Gets His Deplorable A** Handed T...   \n",
       "\n",
       "                                                Body Label  \n",
       "0  WASHINGTON (Reuters) - The U.S. House of Repre...  FAKE  \n",
       "1  It s been more than three weeks since a group ...  REAL  \n",
       "2  WASHINGTON (Reuters) - Elaine Chao, a former t...  FAKE  \n",
       "3  Spoken like a true American Former Congressman...  REAL  \n",
       "4  Hillary Clinton was wrong to say that half of ...  REAL  "
      ]
     },
     "execution_count": 2,
     "metadata": {},
     "output_type": "execute_result"
    }
   ],
   "source": [
    "filename = dataset()\n",
    "data = pd.read_csv(filename)\n",
    "\n",
    "data.loc[data['Label']== 0, 'Label'] = 'REAL'\n",
    "data.loc[data['Label']== 1, 'Label'] = 'FAKE'\n",
    "\n",
    "data.head()"
   ]
  },
  {
   "cell_type": "code",
   "execution_count": 3,
   "metadata": {},
   "outputs": [
    {
     "data": {
      "text/plain": [
       "REAL    23481\n",
       "FAKE    21417\n",
       "Name: Label, dtype: int64"
      ]
     },
     "execution_count": 3,
     "metadata": {},
     "output_type": "execute_result"
    }
   ],
   "source": [
    "data['Label'].value_counts()"
   ]
  },
  {
   "cell_type": "code",
   "execution_count": 4,
   "metadata": {},
   "outputs": [
    {
     "data": {
      "text/plain": [
       "<matplotlib.axes._subplots.AxesSubplot at 0x7f69b80e2080>"
      ]
     },
     "execution_count": 4,
     "metadata": {},
     "output_type": "execute_result"
    },
    {
     "data": {
      "image/png": "[encoded data removed]",
      "text/plain": [
       "<Figure size 432x288 with 1 Axes>"
      ]
     },
     "metadata": {
      "needs_background": "light"
     },
     "output_type": "display_data"
    }
   ],
   "source": [
    "data['Label'].value_counts().plot(kind = 'bar')"
   ]
  },
  {
   "cell_type": "markdown",
   "metadata": {},
   "source": [
    "## Data Cleaning"
   ]
  },
  {
   "cell_type": "code",
   "execution_count": 5,
   "metadata": {},
   "outputs": [],
   "source": [
    "data['Text'] = data['Headline'].map(str) + data['Body']\n",
    "\n",
    "#Drop Duplicates\n",
    "data.drop_duplicates(subset='Text', inplace=True)\n",
    "\n",
    "#Convert all to lower case\n",
    "data['Text'] = data['Text'].str.lower()\n",
    "\n",
    "#Remove all punctuations\n",
    "data['Text'] = data['Text'].str.replace('[^\\w\\s]',' ')\n",
    "\n",
    "#Remove all digits\n",
    "data['Text'] = data['Text'].str.replace('[^A-Za-z]',' ')\n",
    "\n",
    "#Double spaces removed\n",
    "data['Text'] = data['Text'].str.replace('  ',' ')\n",
    "\n",
    "y_data = data.Label\n",
    "y_data = y_data.astype('str')\n",
    "\n",
    "X_train, X_test, y_train, y_test = train_test_split(data['Text'], y_data, test_size=0.2)"
   ]
  },
  {
   "cell_type": "code",
   "execution_count": 6,
   "metadata": {},
   "outputs": [
    {
     "name": "stdout",
     "output_type": "stream",
     "text": [
      "(31284,) (31284,)\n",
      "(7821,) (7821,)\n"
     ]
    }
   ],
   "source": [
    "print(X_train.shape, y_train.shape)\n",
    "print(X_test.shape, y_test.shape)"
   ]
  },
  {
   "cell_type": "code",
   "execution_count": 7,
   "metadata": {},
   "outputs": [
    {
     "data": {
      "text/plain": [
       "10224    top democrat activist who launched online camp...\n",
       "34755    after brexit uk aims for trade deal with eu th...\n",
       "22307     video trump and o reilly discuss debate admit...\n",
       "38062     trump lies to his supporters claims cbs edite...\n",
       "14389     president obama just called trump out for ask...\n",
       "3217     hillary offended by trump s words caught on ta...\n",
       "7327     religion of progressivism meet obama s new tra...\n",
       "16746    high school shows students racist sh t white p...\n",
       "37972     trump s friend snaps pic with guy holding nuc...\n",
       "30101    fancy a political revolution  try bernie s yea...\n",
       "Name: Text, dtype: object"
      ]
     },
     "execution_count": 7,
     "metadata": {},
     "output_type": "execute_result"
    }
   ],
   "source": [
    "X_test[:10]"
   ]
  },
  {
   "cell_type": "markdown",
   "metadata": {},
   "source": [
    "## Vectorization"
   ]
  },
  {
   "cell_type": "code",
   "execution_count": 8,
   "metadata": {},
   "outputs": [],
   "source": [
    "#Tf-idf Bigrams\n",
    "Tfidf_vectorizer = TfidfVectorizer(stop_words='english', ngram_range=(2,2))\n",
    "\n",
    "TF_IDF_train1 = Tfidf_vectorizer.fit_transform(X_train.astype('str'))\n",
    "TF_IDF_test1 = Tfidf_vectorizer.transform(X_test.astype('str'))\n",
    "\n",
    "pickle.dump(TF_IDF_train1, open('TF_IDF_train1.pickle', 'wb'))\n",
    "pickle.dump(TF_IDF_test1, open('TF_IDF_test1.pickle', 'wb'))"
   ]
  },
  {
   "cell_type": "code",
   "execution_count": 9,
   "metadata": {},
   "outputs": [
    {
     "data": {
      "text/plain": [
       "['zzpx bzka',\n",
       " 'zzqvyk xif',\n",
       " 'zzsg pbf',\n",
       " 'zztaine feminit',\n",
       " 'zzucqevt mike',\n",
       " 'zzywyr sean',\n",
       " 'zzzzaaaacccchhh april',\n",
       " 'zzzzaaaacccchhh january',\n",
       " 'zzzzaaaacccchhh march',\n",
       " 'zzzzzzzz boring']"
      ]
     },
     "execution_count": 9,
     "metadata": {},
     "output_type": "execute_result"
    }
   ],
   "source": [
    "Tfidf_vectorizer.get_feature_names()[-10:]"
   ]
  },
  {
   "cell_type": "code",
   "execution_count": 10,
   "metadata": {},
   "outputs": [],
   "source": [
    "# Create a Confusion-Matrix\n",
    "def generate_confusion_matrix(matrix, classes, normalize=False):\n",
    "    \n",
    "    plt.imshow(matrix, interpolation='nearest', cmap = plt.cm.Blues)\n",
    "    plt.title('Confusion-Matrix')\n",
    "    plt.colorbar()\n",
    "    \n",
    "    labels = np.arange(len(classes))\n",
    "    plt.xticks(labels, classes, rotation=90)\n",
    "    plt.yticks(labels, classes)\n",
    "    \n",
    "    if normalize:\n",
    "        matrix = matrix.astype('float')/matrix.sum(axis=0)[:, np.newaxis]\n",
    "        plt.title('Normalized Confusion-Matrix')\n",
    "    \n",
    "    thresh = matrix.max()/2\n",
    "    \n",
    "    for i, j in itertools.product(range(matrix.shape[0]), range(matrix.shape[1])):\n",
    "        plt.text(j, i, matrix[i, j],\n",
    "                 horizontalalignment=\"center\",\n",
    "                 color=\"white\" if matrix[i, j] > thresh else \"black\")\n",
    "\n",
    "    plt.tight_layout()\n",
    "    plt.ylabel('True label')\n",
    "    plt.xlabel('Predicted label')"
   ]
  },
  {
   "cell_type": "markdown",
   "metadata": {},
   "source": [
    "### KNeighbors Classifier"
   ]
  },
  {
   "cell_type": "code",
   "execution_count": 11,
   "metadata": {},
   "outputs": [
    {
     "name": "stdout",
     "output_type": "stream",
     "text": [
      "Accuracy with KNeighbors Classifier:   0.894\n"
     ]
    }
   ],
   "source": [
    "classifier = KNeighborsClassifier()\n",
    "classifier.fit(TF_IDF_train1, y_train)\n",
    "\n",
    "pickle.dump(classifier, open('TF_IDF_KN', 'wb'))\n",
    "\n",
    "pred = classifier.predict(TF_IDF_test1)\n",
    "score = metrics.accuracy_score(y_test, pred)\n",
    "\n",
    "print(\"Accuracy with KNeighbors Classifier:   %0.3f\" % score)"
   ]
  },
  {
   "cell_type": "code",
   "execution_count": 12,
   "metadata": {},
   "outputs": [
    {
     "name": "stdout",
     "output_type": "stream",
     "text": [
      "              precision    recall  f1-score   support\n",
      "\n",
      "        FAKE       0.86      0.96      0.91      4254\n",
      "        REAL       0.95      0.81      0.88      3567\n",
      "\n",
      "    accuracy                           0.89      7821\n",
      "   macro avg       0.90      0.89      0.89      7821\n",
      "weighted avg       0.90      0.89      0.89      7821\n",
      "\n"
     ]
    },
    {
     "data": {
      "image/png": "[encoded data removed]",
      "text/plain": [
       "<Figure size 432x288 with 2 Axes>"
      ]
     },
     "metadata": {
      "needs_background": "light"
     },
     "output_type": "display_data"
    }
   ],
   "source": [
    "matrix = metrics.confusion_matrix(y_test, pred, labels=['FAKE', 'REAL'])\n",
    "generate_confusion_matrix(matrix, classes=['FAKE', 'REAL'])\n",
    "\n",
    "print(metrics.classification_report(y_test, pred, target_names=['FAKE', 'REAL']))"
   ]
  },
  {
   "cell_type": "markdown",
   "metadata": {},
   "source": [
    "### Multinomial Naive Bayes"
   ]
  },
  {
   "cell_type": "code",
   "execution_count": 13,
   "metadata": {},
   "outputs": [
    {
     "name": "stdout",
     "output_type": "stream",
     "text": [
      "Accuracy with Multinomial Naive Bayes:   0.945\n"
     ]
    }
   ],
   "source": [
    "classifier = MultinomialNB()\n",
    "classifier.fit(TF_IDF_train1, y_train)\n",
    "\n",
    "pickle.dump(classifier, open('TF_IDF_NB', 'wb'))\n",
    "\n",
    "pred = classifier.predict(TF_IDF_test1)\n",
    "score = metrics.accuracy_score(y_test, pred)\n",
    "\n",
    "print(\"Accuracy with Multinomial Naive Bayes:   %0.3f\" % score)"
   ]
  },
  {
   "cell_type": "code",
   "execution_count": 14,
   "metadata": {},
   "outputs": [
    {
     "name": "stdout",
     "output_type": "stream",
     "text": [
      "              precision    recall  f1-score   support\n",
      "\n",
      "        FAKE       0.91      1.00      0.95      4254\n",
      "        REAL       0.99      0.88      0.94      3567\n",
      "\n",
      "    accuracy                           0.94      7821\n",
      "   macro avg       0.95      0.94      0.94      7821\n",
      "weighted avg       0.95      0.94      0.94      7821\n",
      "\n"
     ]
    },
    {
     "data": {
      "image/png": "[encoded data removed]",
      "text/plain": [
       "<Figure size 432x288 with 2 Axes>"
      ]
     },
     "metadata": {
      "needs_background": "light"
     },
     "output_type": "display_data"
    }
   ],
   "source": [
    "matrix = metrics.confusion_matrix(y_test, pred, labels=['FAKE', 'REAL'])\n",
    "generate_confusion_matrix(matrix, classes=['FAKE', 'REAL'])\n",
    "\n",
    "print(metrics.classification_report(y_test, pred, target_names=['FAKE', 'REAL']))"
   ]
  },
  {
   "cell_type": "markdown",
   "metadata": {},
   "source": [
    "### Logistic Regression Classifier"
   ]
  },
  {
   "cell_type": "code",
   "execution_count": 15,
   "metadata": {},
   "outputs": [
    {
     "name": "stderr",
     "output_type": "stream",
     "text": [
      "/home/vinayak/.local/lib/python3.5/site-packages/sklearn/linear_model/logistic.py:432: FutureWarning: Default solver will be changed to 'lbfgs' in 0.22. Specify a solver to silence this warning.\n",
      "  FutureWarning)\n"
     ]
    },
    {
     "name": "stdout",
     "output_type": "stream",
     "text": [
      "Accuracy with Logistic regression classifier:   0.972\n"
     ]
    }
   ],
   "source": [
    "classifier = LogisticRegression()\n",
    "classifier.fit(TF_IDF_train1, y_train)\n",
    "\n",
    "pickle.dump(classifier, open('TF_IDF_LR', 'wb'))\n",
    "\n",
    "pred = classifier.predict(TF_IDF_test1)\n",
    "score = metrics.accuracy_score(y_test, pred)\n",
    "\n",
    "print(\"Accuracy with Logistic regression classifier:   %0.3f\" % score)"
   ]
  },
  {
   "cell_type": "code",
   "execution_count": 16,
   "metadata": {},
   "outputs": [
    {
     "name": "stdout",
     "output_type": "stream",
     "text": [
      "              precision    recall  f1-score   support\n",
      "\n",
      "        FAKE       0.96      0.99      0.97      4254\n",
      "        REAL       0.99      0.95      0.97      3567\n",
      "\n",
      "    accuracy                           0.97      7821\n",
      "   macro avg       0.97      0.97      0.97      7821\n",
      "weighted avg       0.97      0.97      0.97      7821\n",
      "\n"
     ]
    },
    {
     "data": {
      "image/png": "[encoded data removed]",
      "text/plain": [
       "<Figure size 432x288 with 2 Axes>"
      ]
     },
     "metadata": {
      "needs_background": "light"
     },
     "output_type": "display_data"
    }
   ],
   "source": [
    "matrix = metrics.confusion_matrix(y_test, pred, labels=['FAKE', 'REAL'])\n",
    "generate_confusion_matrix(matrix, classes=['FAKE', 'REAL'])\n",
    "\n",
    "print(metrics.classification_report(y_test, pred, target_names=['FAKE', 'REAL']))"
   ]
  },
  {
   "cell_type": "markdown",
   "metadata": {},
   "source": [
    "### Random Forest Classifier"
   ]
  },
  {
   "cell_type": "code",
   "execution_count": 17,
   "metadata": {},
   "outputs": [
    {
     "name": "stderr",
     "output_type": "stream",
     "text": [
      "/home/vinayak/.local/lib/python3.5/site-packages/sklearn/ensemble/forest.py:245: FutureWarning: The default value of n_estimators will change from 10 in version 0.20 to 100 in 0.22.\n",
      "  \"10 in version 0.20 to 100 in 0.22.\", FutureWarning)\n"
     ]
    },
    {
     "name": "stdout",
     "output_type": "stream",
     "text": [
      "Accuracy with Random Forest Classifier:   0.941\n"
     ]
    }
   ],
   "source": [
    "classifier = RandomForestClassifier()\n",
    "classifier.fit(TF_IDF_train1, y_train)\n",
    "\n",
    "pickle.dump(classifier, open('TF_IDF_RF', 'wb'))\n",
    "\n",
    "pred = classifier.predict(TF_IDF_test1)\n",
    "score = metrics.accuracy_score(y_test, pred)\n",
    "\n",
    "print(\"Accuracy with Random Forest Classifier:   %0.3f\" % score)"
   ]
  },
  {
   "cell_type": "code",
   "execution_count": 18,
   "metadata": {},
   "outputs": [
    {
     "name": "stdout",
     "output_type": "stream",
     "text": [
      "              precision    recall  f1-score   support\n",
      "\n",
      "        FAKE       0.92      0.98      0.95      4254\n",
      "        REAL       0.97      0.90      0.93      3567\n",
      "\n",
      "    accuracy                           0.94      7821\n",
      "   macro avg       0.95      0.94      0.94      7821\n",
      "weighted avg       0.94      0.94      0.94      7821\n",
      "\n"
     ]
    },
    {
     "data": {
      "image/png": "[encoded data removed]",
      "text/plain": [
       "<Figure size 432x288 with 2 Axes>"
      ]
     },
     "metadata": {
      "needs_background": "light"
     },
     "output_type": "display_data"
    }
   ],
   "source": [
    "matrix = metrics.confusion_matrix(y_test, pred, labels=['FAKE', 'REAL'])\n",
    "generate_confusion_matrix(matrix, classes=['FAKE', 'REAL'])\n",
    "\n",
    "print(metrics.classification_report(y_test, pred, target_names=['FAKE', 'REAL']))"
   ]
  },
  {
   "cell_type": "markdown",
   "metadata": {},
   "source": [
    "## Adding POS Tags in the dataset"
   ]
  },
  {
   "cell_type": "code",
   "execution_count": 19,
   "metadata": {},
   "outputs": [],
   "source": [
    "import en_core_web_sm\n",
    "nlp = en_core_web_sm.load()\n",
    "x = []\n",
    "\n",
    "data[\"Text\"] = data[\"Headline\"].map(str) + data[\"Body\"]\n",
    "for text in data['Text']:\n",
    "    text_new = []\n",
    "    doc = nlp(text)\n",
    "    for token in doc:\n",
    "        text_new.append(token.pos_)\n",
    "    txt = ' '.join(text_new)\n",
    "    x.append(txt)\n",
    "\n",
    "data['Text_pos'] = x\n",
    "data.to_pickle('newdata.pkl')"
   ]
  },
  {
   "cell_type": "code",
   "execution_count": 20,
   "metadata": {},
   "outputs": [
    {
     "data": {
      "text/plain": [
       "40517    PROPN PROPN VERB PROPN PART VERB NOUN NOUN PUN...\n",
       "40516    PROPN VERB VERB NOUN ADP ADJ NOUN ADP PROPN PU...\n",
       "10496    NOUN NOUN PROPN NOUN PUNCT PROPN PROPN PROPN P...\n",
       "8682     PROPN PART VERB ADP ADJ ADJ NOUN ADP PROPN PUN...\n",
       "10917    DET ADJ PUNCT NOUN PROPN PROPN PUNCT NOUN VERB...\n",
       "28809    ADJ NOUN VERB ADP PROPN ADJ NOUN SCONJ PROPN P...\n",
       "4692     SPACE PROPN PUNCT PROPN PROPN PROPN PROPN ADV ...\n",
       "29642    SPACE PROPN PROPN PROPN PROPN PROPN PROPN PUNC...\n",
       "31019    PROPN PROPN PART VERB ADP NOUN NOUN PART NOUN ...\n",
       "6594     PRON VERB AUX ADP PROPN PART ADJ NOUN NOUN PUN...\n",
       "Name: Text_pos, dtype: object"
      ]
     },
     "execution_count": 20,
     "metadata": {},
     "output_type": "execute_result"
    }
   ],
   "source": [
    "y_data = data.Label\n",
    "y_data = y_data.astype('str')\n",
    "\n",
    "X_train, X_test, y_train, y_test = train_test_split(data['Text_pos'], y_data, test_size=0.2)\n",
    "X_train[:10]"
   ]
  },
  {
   "cell_type": "code",
   "execution_count": 21,
   "metadata": {},
   "outputs": [],
   "source": [
    "#Tf-idf Bigrams\n",
    "Tfidf_vectorizer = TfidfVectorizer(stop_words='english', ngram_range=(2,2))\n",
    "\n",
    "TF_IDF_train2 = Tfidf_vectorizer.fit_transform(X_train.astype('str'))\n",
    "TF_IDF_test2 = Tfidf_vectorizer.transform(X_test.astype('str'))\n",
    "\n",
    "pickle.dump(TF_IDF_train2, open('TF_IDF_train2.pickle', 'wb'))\n",
    "pickle.dump(TF_IDF_test2, open('TF_IDF_test2.pickle', 'wb'))"
   ]
  },
  {
   "cell_type": "code",
   "execution_count": 22,
   "metadata": {},
   "outputs": [
    {
     "data": {
      "text/plain": [
       "['verb intj',\n",
       " 'verb noun',\n",
       " 'verb num',\n",
       " 'verb pron',\n",
       " 'verb propn',\n",
       " 'verb punct',\n",
       " 'verb sconj',\n",
       " 'verb space',\n",
       " 'verb sym',\n",
       " 'verb verb']"
      ]
     },
     "execution_count": 22,
     "metadata": {},
     "output_type": "execute_result"
    }
   ],
   "source": [
    "Tfidf_vectorizer.get_feature_names()[-10:]"
   ]
  },
  {
   "cell_type": "code",
   "execution_count": 23,
   "metadata": {},
   "outputs": [
    {
     "name": "stdout",
     "output_type": "stream",
     "text": [
      "Accuracy with Multinomial Naive Bayes:   0.875\n"
     ]
    }
   ],
   "source": [
    "classifier = MultinomialNB()\n",
    "classifier.fit(TF_IDF_train2, y_train)\n",
    "\n",
    "pickle.dump(classifier, open('POS_NB', 'wb'))\n",
    "\n",
    "pred = classifier.predict(TF_IDF_test2)\n",
    "score = metrics.accuracy_score(y_test, pred)\n",
    "\n",
    "print(\"Accuracy with Multinomial Naive Bayes:   %0.3f\" % score)"
   ]
  },
  {
   "cell_type": "code",
   "execution_count": 24,
   "metadata": {},
   "outputs": [
    {
     "name": "stdout",
     "output_type": "stream",
     "text": [
      "              precision    recall  f1-score   support\n",
      "\n",
      "        FAKE       0.83      0.97      0.89      4186\n",
      "        REAL       0.95      0.77      0.85      3635\n",
      "\n",
      "    accuracy                           0.87      7821\n",
      "   macro avg       0.89      0.87      0.87      7821\n",
      "weighted avg       0.89      0.87      0.87      7821\n",
      "\n"
     ]
    },
    {
     "data": {
      "image/png": "[encoded data removed]",
      "text/plain": [
       "<Figure size 432x288 with 2 Axes>"
      ]
     },
     "metadata": {
      "needs_background": "light"
     },
     "output_type": "display_data"
    }
   ],
   "source": [
    "matrix = metrics.confusion_matrix(y_test, pred, labels=['FAKE', 'REAL'])\n",
    "generate_confusion_matrix(matrix, classes=['FAKE', 'REAL'])\n",
    "\n",
    "print(metrics.classification_report(y_test, pred, target_names=['FAKE', 'REAL']))"
   ]
  },
  {
   "cell_type": "code",
   "execution_count": 25,
   "metadata": {},
   "outputs": [
    {
     "name": "stdout",
     "output_type": "stream",
     "text": [
      "Accuracy with KNeighbors Classifier:   0.914\n"
     ]
    }
   ],
   "source": [
    "classifier = KNeighborsClassifier()\n",
    "classifier.fit(TF_IDF_train2, y_train)\n",
    "\n",
    "pickle.dump(classifier, open('POS_KN', 'wb'))\n",
    "\n",
    "pred = classifier.predict(TF_IDF_test2)\n",
    "score = metrics.accuracy_score(y_test, pred)\n",
    "\n",
    "print(\"Accuracy with KNeighbors Classifier:   %0.3f\" % score)"
   ]
  },
  {
   "cell_type": "code",
   "execution_count": 26,
   "metadata": {},
   "outputs": [
    {
     "name": "stdout",
     "output_type": "stream",
     "text": [
      "              precision    recall  f1-score   support\n",
      "\n",
      "        FAKE       0.88      0.97      0.92      4186\n",
      "        REAL       0.97      0.84      0.90      3635\n",
      "\n",
      "    accuracy                           0.91      7821\n",
      "   macro avg       0.92      0.91      0.91      7821\n",
      "weighted avg       0.92      0.91      0.91      7821\n",
      "\n"
     ]
    },
    {
     "data": {
      "image/png": "[encoded data removed]",
      "text/plain": [
       "<Figure size 432x288 with 2 Axes>"
      ]
     },
     "metadata": {
      "needs_background": "light"
     },
     "output_type": "display_data"
    }
   ],
   "source": [
    "matrix = metrics.confusion_matrix(y_test, pred, labels=['FAKE', 'REAL'])\n",
    "generate_confusion_matrix(matrix, classes=['FAKE', 'REAL'])\n",
    "\n",
    "print(metrics.classification_report(y_test, pred, target_names=['FAKE', 'REAL']))"
   ]
  },
  {
   "cell_type": "code",
   "execution_count": 27,
   "metadata": {},
   "outputs": [
    {
     "name": "stderr",
     "output_type": "stream",
     "text": [
      "/home/vinayak/.local/lib/python3.5/site-packages/sklearn/linear_model/logistic.py:432: FutureWarning: Default solver will be changed to 'lbfgs' in 0.22. Specify a solver to silence this warning.\n",
      "  FutureWarning)\n"
     ]
    },
    {
     "name": "stdout",
     "output_type": "stream",
     "text": [
      "Accuracy with Logistic regression classifier:   0.955\n"
     ]
    }
   ],
   "source": [
    "classifier = LogisticRegression()\n",
    "classifier.fit(TF_IDF_train2, y_train)\n",
    "\n",
    "pickle.dump(classifier, open('POS_LR', 'wb'))\n",
    "\n",
    "pred = classifier.predict(TF_IDF_test2)\n",
    "score = metrics.accuracy_score(y_test, pred)\n",
    "\n",
    "print(\"Accuracy with Logistic regression classifier:   %0.3f\" % score)"
   ]
  },
  {
   "cell_type": "code",
   "execution_count": 28,
   "metadata": {},
   "outputs": [
    {
     "name": "stdout",
     "output_type": "stream",
     "text": [
      "              precision    recall  f1-score   support\n",
      "\n",
      "        FAKE       0.94      0.97      0.96      4186\n",
      "        REAL       0.97      0.93      0.95      3635\n",
      "\n",
      "    accuracy                           0.95      7821\n",
      "   macro avg       0.96      0.95      0.95      7821\n",
      "weighted avg       0.96      0.95      0.95      7821\n",
      "\n"
     ]
    },
    {
     "data": {
      "image/png": "[encoded data removed]",
      "text/plain": [
       "<Figure size 432x288 with 2 Axes>"
      ]
     },
     "metadata": {
      "needs_background": "light"
     },
     "output_type": "display_data"
    }
   ],
   "source": [
    "matrix = metrics.confusion_matrix(y_test, pred, labels=['FAKE', 'REAL'])\n",
    "generate_confusion_matrix(matrix, classes=['FAKE', 'REAL'])\n",
    "\n",
    "print(metrics.classification_report(y_test, pred, target_names=['FAKE', 'REAL']))"
   ]
  },
  {
   "cell_type": "code",
   "execution_count": 29,
   "metadata": {},
   "outputs": [
    {
     "name": "stderr",
     "output_type": "stream",
     "text": [
      "/home/vinayak/.local/lib/python3.5/site-packages/sklearn/ensemble/forest.py:245: FutureWarning: The default value of n_estimators will change from 10 in version 0.20 to 100 in 0.22.\n",
      "  \"10 in version 0.20 to 100 in 0.22.\", FutureWarning)\n"
     ]
    },
    {
     "name": "stdout",
     "output_type": "stream",
     "text": [
      "Accuracy with Random Forest Classifier:   0.948\n"
     ]
    }
   ],
   "source": [
    "classifier = RandomForestClassifier()\n",
    "classifier.fit(TF_IDF_train2, y_train)\n",
    "\n",
    "pickle.dump(classifier, open('POS_RF', 'wb'))\n",
    "\n",
    "pred = classifier.predict(TF_IDF_test2)\n",
    "score = metrics.accuracy_score(y_test, pred)\n",
    "\n",
    "print(\"Accuracy with Random Forest Classifier:   %0.3f\" % score)"
   ]
  },
  {
   "cell_type": "code",
   "execution_count": 30,
   "metadata": {},
   "outputs": [
    {
     "name": "stdout",
     "output_type": "stream",
     "text": [
      "              precision    recall  f1-score   support\n",
      "\n",
      "        FAKE       0.93      0.97      0.95      4186\n",
      "        REAL       0.97      0.92      0.94      3635\n",
      "\n",
      "    accuracy                           0.95      7821\n",
      "   macro avg       0.95      0.95      0.95      7821\n",
      "weighted avg       0.95      0.95      0.95      7821\n",
      "\n"
     ]
    },
    {
     "data": {
      "image/png": "[encoded data removed]",
      "text/plain": [
       "<Figure size 432x288 with 2 Axes>"
      ]
     },
     "metadata": {
      "needs_background": "light"
     },
     "output_type": "display_data"
    }
   ],
   "source": [
    "matrix = metrics.confusion_matrix(y_test, pred, labels=['FAKE', 'REAL'])\n",
    "generate_confusion_matrix(matrix, classes=['FAKE', 'REAL'])\n",
    "\n",
    "print(metrics.classification_report(y_test, pred, target_names=['FAKE', 'REAL']))"
   ]
  },
  {
   "cell_type": "markdown",
   "metadata": {},
   "source": [
    "## Using Sentiments to classify Fake News"
   ]
  },
  {
   "cell_type": "code",
   "execution_count": 31,
   "metadata": {},
   "outputs": [],
   "source": [
    "#Getting the score of semantic categories generated by Empath of each article and generating a tfidf vector."
   ]
  },
  {
   "cell_type": "code",
   "execution_count": 32,
   "metadata": {},
   "outputs": [],
   "source": [
    "sentiment = Empath()\n",
    "semantic = []\n",
    "count = 0\n",
    "\n",
    "data['Text'] = data['Headline'].map(str) + data['Body']\n",
    "\n",
    "for article in data['Text']:\n",
    "    \n",
    "    if article == '':\n",
    "        continue\n",
    "    \n",
    "    count += 1\n",
    "    res = sentiment.analyze(article, normalize=False)\n",
    "    arr = []\n",
    "    for key, value in res.items():\n",
    "        arr.append(value)\n",
    "    \n",
    "    arr = np.array(arr)\n",
    "    semantic.append(arr)\n",
    "\n",
    "data['Semantics'] = semantic"
   ]
  },
  {
   "cell_type": "code",
   "execution_count": 33,
   "metadata": {},
   "outputs": [
    {
     "data": {
      "text/plain": [
       "array([ 1.,  1.,  0.,  0.,  1.,  0.,  2.,  0.,  0.,  0.,  1.,  0.,  2.,\n",
       "        1.,  1.,  4.,  0.,  0.,  1.,  3.,  2.,  0.,  3.,  2.,  0.,  0.,\n",
       "        1.,  1.,  0.,  6.,  0.,  0.,  0.,  1.,  2.,  0.,  0., 25.,  0.,\n",
       "        0.,  0.,  3.,  0.,  1.,  0.,  0.,  0.,  0.,  0.,  0.,  0.,  0.,\n",
       "        0.,  0.,  0.,  5.,  0.,  0.,  0.,  0.,  5.,  0.,  0.,  1., 13.,\n",
       "        3.,  5.,  0.,  1.,  0.,  1.,  6.,  1.,  0.,  0.,  1.,  1.,  0.,\n",
       "        0.,  1.,  0.,  1.,  1.,  5.,  2.,  0.,  0.,  0.,  0.,  0.,  3.,\n",
       "        0.,  0.,  0.,  7.,  0.,  0.,  0.,  0.,  1.,  1.,  0.,  1.,  7.,\n",
       "       24.,  0.,  0.,  0., 30.,  2.,  1.,  3.,  3., 31.,  0.,  8.,  0.,\n",
       "        1.,  1.,  4.,  0.,  0.,  1.,  0.,  0.,  0.,  0.,  0.,  0.,  0.,\n",
       "        0.,  1.,  0.,  3.,  0.,  1.,  1.,  1.,  2.,  0.,  0.,  0.,  0.,\n",
       "        0.,  1.,  0.,  0.,  1.,  3.,  1.,  4.,  0.,  5.,  0.,  0.,  3.,\n",
       "        1.,  1.,  2.,  0., 24.,  0.,  0.,  0.,  1.,  0.,  0.,  1.,  4.,\n",
       "        0.,  4.,  0.,  7.,  1.,  1.,  0.,  0.,  0.,  1.,  1.,  5.,  0.,\n",
       "        0.,  0., 23.,  0.,  5.,  1.,  0.,  0., 25.,  0.,  0.,  0.])"
      ]
     },
     "execution_count": 33,
     "metadata": {},
     "output_type": "execute_result"
    }
   ],
   "source": [
    "semantic[0]"
   ]
  },
  {
   "cell_type": "code",
   "execution_count": 34,
   "metadata": {},
   "outputs": [
    {
     "data": {
      "text/plain": [
       "['internet',\n",
       " 'disgust',\n",
       " 'medical_emergency',\n",
       " 'fire',\n",
       " 'kill',\n",
       " 'ugliness',\n",
       " 'writing',\n",
       " 'air_travel',\n",
       " 'cooking',\n",
       " 'philosophy',\n",
       " 'disappointment',\n",
       " 'ancient',\n",
       " 'attractive',\n",
       " 'prison',\n",
       " 'traveling',\n",
       " 'gain',\n",
       " 'divine',\n",
       " 'exercise',\n",
       " 'social_media',\n",
       " 'communication',\n",
       " 'pain',\n",
       " 'order',\n",
       " 'trust',\n",
       " 'clothing',\n",
       " 'neglect',\n",
       " 'beauty',\n",
       " 'fabric',\n",
       " 'love',\n",
       " 'weather',\n",
       " 'poor',\n",
       " 'youth',\n",
       " 'alcohol',\n",
       " 'sound',\n",
       " 'science',\n",
       " 'power',\n",
       " 'swearing_terms',\n",
       " 'crime',\n",
       " 'real_estate',\n",
       " 'hygiene',\n",
       " 'masculine',\n",
       " 'war',\n",
       " 'fun',\n",
       " 'cheerfulness',\n",
       " 'dominant_personality',\n",
       " 'car',\n",
       " 'lust',\n",
       " 'surprise',\n",
       " 'confusion',\n",
       " 'terrorism',\n",
       " 'furniture',\n",
       " 'hiking',\n",
       " 'dance',\n",
       " 'restaurant',\n",
       " 'sympathy',\n",
       " 'nervousness',\n",
       " 'shopping',\n",
       " 'torment',\n",
       " 'vehicle',\n",
       " 'shame',\n",
       " 'feminine',\n",
       " 'giving',\n",
       " 'water',\n",
       " 'sports',\n",
       " 'white_collar_job',\n",
       " 'business',\n",
       " 'vacation',\n",
       " 'party',\n",
       " 'royalty',\n",
       " 'help',\n",
       " 'sadness',\n",
       " 'optimism',\n",
       " 'achievement',\n",
       " 'school',\n",
       " 'reading',\n",
       " 'anticipation',\n",
       " 'appearance',\n",
       " 'driving',\n",
       " 'worship',\n",
       " 'animal',\n",
       " 'play',\n",
       " 'messaging',\n",
       " 'independence',\n",
       " 'tool',\n",
       " 'meeting',\n",
       " 'dominant_heirarchical',\n",
       " 'swimming',\n",
       " 'ship',\n",
       " 'blue_collar_job',\n",
       " 'morning',\n",
       " 'emotional',\n",
       " 'office',\n",
       " 'sailing',\n",
       " 'weapon',\n",
       " 'children',\n",
       " 'wedding',\n",
       " 'sexual',\n",
       " 'stealing',\n",
       " 'medieval',\n",
       " 'joy',\n",
       " 'fear',\n",
       " 'pride',\n",
       " 'hate',\n",
       " 'healing',\n",
       " 'leader',\n",
       " 'banking',\n",
       " 'aggression',\n",
       " 'fashion',\n",
       " 'eating',\n",
       " 'economics',\n",
       " 'dispute',\n",
       " 'magic',\n",
       " 'work',\n",
       " 'negotiate',\n",
       " 'money',\n",
       " 'plant',\n",
       " 'wealthy',\n",
       " 'exotic',\n",
       " 'fight',\n",
       " 'religion',\n",
       " 'negative_emotion',\n",
       " 'rage',\n",
       " 'domestic_work',\n",
       " 'hipster',\n",
       " 'timidity',\n",
       " 'liquid',\n",
       " 'sleep',\n",
       " 'superhero',\n",
       " 'smell',\n",
       " 'horror',\n",
       " 'night',\n",
       " 'family',\n",
       " 'movement',\n",
       " 'toy',\n",
       " 'violence',\n",
       " 'death',\n",
       " 'irritability',\n",
       " 'urban',\n",
       " 'body',\n",
       " 'leisure',\n",
       " 'cleaning',\n",
       " 'legend',\n",
       " 'envy',\n",
       " 'noise',\n",
       " 'suffering',\n",
       " 'college',\n",
       " 'hearing',\n",
       " 'contentment',\n",
       " 'technology',\n",
       " 'shape_and_size',\n",
       " 'warmth',\n",
       " 'competing',\n",
       " 'childish',\n",
       " 'valuable',\n",
       " 'anonymity',\n",
       " 'music',\n",
       " 'strength',\n",
       " 'computer',\n",
       " 'journalism',\n",
       " 'positive_emotion',\n",
       " 'cold',\n",
       " 'payment',\n",
       " 'musical',\n",
       " 'ridicule',\n",
       " 'tourism',\n",
       " 'home',\n",
       " 'zest',\n",
       " 'weakness',\n",
       " 'friends',\n",
       " 'breaking',\n",
       " 'rural',\n",
       " 'occupation',\n",
       " 'ocean',\n",
       " 'celebration',\n",
       " 'heroic',\n",
       " 'speaking',\n",
       " 'pet',\n",
       " 'phone',\n",
       " 'art',\n",
       " 'exasperation',\n",
       " 'programming',\n",
       " 'politics',\n",
       " 'military',\n",
       " 'beach',\n",
       " 'monster',\n",
       " 'law',\n",
       " 'deception',\n",
       " 'injury',\n",
       " 'affection',\n",
       " 'listen',\n",
       " 'farming',\n",
       " 'government',\n",
       " 'politeness',\n",
       " 'health',\n",
       " 'anger']"
      ]
     },
     "execution_count": 34,
     "metadata": {},
     "output_type": "execute_result"
    }
   ],
   "source": [
    "categories = []\n",
    "a = sentiment.analyze(\"\")\n",
    "for key, value in a.items():\n",
    "    categories.append(key)\n",
    "categories"
   ]
  },
  {
   "cell_type": "code",
   "execution_count": 35,
   "metadata": {},
   "outputs": [
    {
     "data": {
      "text/plain": [
       "194"
      ]
     },
     "execution_count": 35,
     "metadata": {},
     "output_type": "execute_result"
    }
   ],
   "source": [
    "len(categories)"
   ]
  },
  {
   "cell_type": "code",
   "execution_count": 36,
   "metadata": {},
   "outputs": [],
   "source": [
    "sem = []\n",
    "\n",
    "for i in range(data.shape[0]):\n",
    "    \n",
    "    a = []\n",
    "    for j in range(len(semantic[0])):\n",
    "        for k in range(int(semantic[i][j])):     ## each semantic of every word in every article\n",
    "            a.append(categories[j])\n",
    "        \n",
    "    b = \" \".join(a)\n",
    "    sem.append(b)\n",
    "\n",
    "data['Sentiments'] = sem\n",
    "data.to_pickle('Sentiments.pkl')"
   ]
  },
  {
   "cell_type": "code",
   "execution_count": 37,
   "metadata": {},
   "outputs": [
    {
     "data": {
      "text/plain": [
       "'internet disgust kill writing writing disappointment attractive attractive prison traveling gain gain gain gain social_media communication communication communication pain pain trust trust trust clothing clothing fabric love poor poor poor poor poor poor science power power real_estate real_estate real_estate real_estate real_estate real_estate real_estate real_estate real_estate real_estate real_estate real_estate real_estate real_estate real_estate real_estate real_estate real_estate real_estate real_estate real_estate real_estate real_estate real_estate real_estate fun fun fun dominant_personality shopping shopping shopping shopping shopping giving giving giving giving giving white_collar_job business business business business business business business business business business business business business vacation vacation vacation party party party party party help optimism achievement achievement achievement achievement achievement achievement school appearance driving play independence tool meeting meeting meeting meeting meeting dominant_heirarchical dominant_heirarchical office office office wedding wedding wedding wedding wedding wedding wedding fear pride healing leader leader leader leader leader leader leader banking banking banking banking banking banking banking banking banking banking banking banking banking banking banking banking banking banking banking banking banking banking banking banking economics economics economics economics economics economics economics economics economics economics economics economics economics economics economics economics economics economics economics economics economics economics economics economics economics economics economics economics economics economics dispute dispute magic work work work negotiate negotiate negotiate money money money money money money money money money money money money money money money money money money money money money money money money money money money money money money money wealthy wealthy wealthy wealthy wealthy wealthy wealthy wealthy fight religion negative_emotion negative_emotion negative_emotion negative_emotion hipster movement violence violence violence irritability urban body leisure leisure college technology shape_and_size shape_and_size shape_and_size warmth competing competing competing competing valuable valuable valuable valuable valuable strength strength strength computer journalism positive_emotion positive_emotion payment payment payment payment payment payment payment payment payment payment payment payment payment payment payment payment payment payment payment payment payment payment payment payment home friends breaking breaking breaking breaking occupation occupation occupation occupation celebration celebration celebration celebration celebration celebration celebration heroic speaking exasperation programming politics politics politics politics politics law law law law law law law law law law law law law law law law law law law law law law law injury injury injury injury injury affection government government government government government government government government government government government government government government government government government government government government government government government government government'"
      ]
     },
     "execution_count": 37,
     "metadata": {},
     "output_type": "execute_result"
    }
   ],
   "source": [
    "sem[0]"
   ]
  },
  {
   "cell_type": "code",
   "execution_count": 38,
   "metadata": {},
   "outputs": [
    {
     "name": "stdout",
     "output_type": "stream",
     "text": [
      "Index(['Headline', 'Body', 'Label', 'Text', 'Text_pos', 'Semantics',\n",
      "       'Sentiments'],\n",
      "      dtype='object')\n",
      "(39105, 7)\n"
     ]
    }
   ],
   "source": [
    "df = pd.read_pickle('Sentiments.pkl')\n",
    "print(df.columns)\n",
    "print(df.shape)"
   ]
  },
  {
   "cell_type": "code",
   "execution_count": 39,
   "metadata": {},
   "outputs": [],
   "source": [
    "y_data = df.Label\n",
    "y_data = y_data.astype('str')\n",
    "X_train, X_test, y_train, y_test = train_test_split(df['Semantics'], y_data, test_size=0.33)"
   ]
  },
  {
   "cell_type": "code",
   "execution_count": 40,
   "metadata": {},
   "outputs": [
    {
     "data": {
      "text/plain": [
       "16948    [1.0, 1.0, 9.0, 2.0, 2.0, 0.0, 0.0, 2.0, 0.0, ...\n",
       "9725     [0.0, 0.0, 0.0, 0.0, 1.0, 0.0, 0.0, 0.0, 0.0, ...\n",
       "7820     [2.0, 0.0, 0.0, 0.0, 0.0, 0.0, 0.0, 0.0, 0.0, ...\n",
       "30890    [1.0, 0.0, 0.0, 0.0, 4.0, 0.0, 0.0, 1.0, 0.0, ...\n",
       "1707     [1.0, 0.0, 1.0, 3.0, 0.0, 0.0, 1.0, 1.0, 0.0, ...\n",
       "41495    [0.0, 0.0, 1.0, 0.0, 1.0, 0.0, 0.0, 0.0, 0.0, ...\n",
       "32417    [0.0, 0.0, 0.0, 0.0, 0.0, 0.0, 0.0, 0.0, 0.0, ...\n",
       "21573    [0.0, 0.0, 1.0, 0.0, 0.0, 0.0, 0.0, 0.0, 0.0, ...\n",
       "36101    [0.0, 0.0, 0.0, 0.0, 0.0, 0.0, 0.0, 0.0, 0.0, ...\n",
       "24352    [0.0, 0.0, 0.0, 0.0, 1.0, 1.0, 0.0, 3.0, 0.0, ...\n",
       "7187     [5.0, 1.0, 0.0, 1.0, 0.0, 0.0, 0.0, 1.0, 0.0, ...\n",
       "35422    [1.0, 0.0, 0.0, 0.0, 1.0, 0.0, 0.0, 0.0, 0.0, ...\n",
       "22496    [3.0, 1.0, 1.0, 0.0, 1.0, 0.0, 3.0, 0.0, 1.0, ...\n",
       "16031    [0.0, 0.0, 0.0, 0.0, 0.0, 0.0, 0.0, 0.0, 0.0, ...\n",
       "40171    [0.0, 0.0, 0.0, 0.0, 0.0, 0.0, 2.0, 1.0, 0.0, ...\n",
       "2577     [0.0, 0.0, 0.0, 0.0, 0.0, 0.0, 0.0, 1.0, 0.0, ...\n",
       "583      [1.0, 1.0, 0.0, 0.0, 1.0, 0.0, 0.0, 0.0, 0.0, ...\n",
       "42946    [1.0, 0.0, 0.0, 0.0, 0.0, 0.0, 1.0, 0.0, 0.0, ...\n",
       "23389    [1.0, 1.0, 0.0, 0.0, 0.0, 0.0, 0.0, 0.0, 1.0, ...\n",
       "30408    [0.0, 0.0, 0.0, 0.0, 0.0, 0.0, 0.0, 0.0, 0.0, ...\n",
       "2473     [0.0, 0.0, 1.0, 0.0, 6.0, 2.0, 1.0, 2.0, 0.0, ...\n",
       "10679    [0.0, 0.0, 1.0, 0.0, 2.0, 0.0, 1.0, 6.0, 1.0, ...\n",
       "13053    [0.0, 0.0, 0.0, 0.0, 0.0, 0.0, 0.0, 0.0, 0.0, ...\n",
       "30853    [5.0, 0.0, 0.0, 1.0, 0.0, 0.0, 2.0, 0.0, 0.0, ...\n",
       "1327     [0.0, 0.0, 0.0, 1.0, 0.0, 1.0, 1.0, 0.0, 0.0, ...\n",
       "30442    [1.0, 0.0, 0.0, 1.0, 3.0, 0.0, 0.0, 6.0, 0.0, ...\n",
       "28746    [0.0, 0.0, 3.0, 1.0, 0.0, 0.0, 0.0, 0.0, 0.0, ...\n",
       "30007    [0.0, 0.0, 0.0, 0.0, 0.0, 0.0, 1.0, 1.0, 0.0, ...\n",
       "23353    [0.0, 0.0, 0.0, 0.0, 0.0, 0.0, 0.0, 0.0, 0.0, ...\n",
       "14824    [0.0, 0.0, 0.0, 0.0, 0.0, 0.0, 0.0, 0.0, 0.0, ...\n",
       "                               ...                        \n",
       "6312     [0.0, 0.0, 0.0, 0.0, 0.0, 0.0, 0.0, 0.0, 0.0, ...\n",
       "10335    [1.0, 1.0, 2.0, 0.0, 0.0, 1.0, 1.0, 0.0, 0.0, ...\n",
       "17001    [1.0, 0.0, 0.0, 0.0, 0.0, 0.0, 4.0, 2.0, 0.0, ...\n",
       "24691    [1.0, 1.0, 0.0, 1.0, 0.0, 0.0, 0.0, 0.0, 0.0, ...\n",
       "4769     [0.0, 1.0, 0.0, 0.0, 4.0, 0.0, 0.0, 0.0, 0.0, ...\n",
       "29832    [0.0, 0.0, 0.0, 0.0, 1.0, 0.0, 0.0, 1.0, 0.0, ...\n",
       "6916     [0.0, 0.0, 0.0, 0.0, 0.0, 0.0, 0.0, 1.0, 0.0, ...\n",
       "11638    [0.0, 0.0, 0.0, 0.0, 2.0, 0.0, 0.0, 0.0, 0.0, ...\n",
       "40761    [0.0, 0.0, 0.0, 0.0, 1.0, 0.0, 2.0, 5.0, 0.0, ...\n",
       "2935     [5.0, 1.0, 0.0, 1.0, 1.0, 0.0, 5.0, 0.0, 0.0, ...\n",
       "19107    [0.0, 1.0, 1.0, 1.0, 1.0, 0.0, 0.0, 2.0, 1.0, ...\n",
       "41189    [7.0, 0.0, 1.0, 0.0, 0.0, 0.0, 4.0, 1.0, 0.0, ...\n",
       "23915    [0.0, 4.0, 0.0, 0.0, 0.0, 1.0, 0.0, 1.0, 0.0, ...\n",
       "1601     [0.0, 0.0, 0.0, 0.0, 0.0, 0.0, 0.0, 0.0, 0.0, ...\n",
       "11899    [0.0, 0.0, 0.0, 0.0, 1.0, 0.0, 0.0, 1.0, 0.0, ...\n",
       "20935    [1.0, 0.0, 0.0, 0.0, 1.0, 0.0, 0.0, 0.0, 0.0, ...\n",
       "7535     [0.0, 0.0, 0.0, 0.0, 0.0, 0.0, 0.0, 0.0, 0.0, ...\n",
       "15685    [0.0, 0.0, 0.0, 0.0, 1.0, 0.0, 0.0, 2.0, 0.0, ...\n",
       "39167    [0.0, 0.0, 0.0, 0.0, 0.0, 0.0, 0.0, 0.0, 0.0, ...\n",
       "5807     [0.0, 0.0, 1.0, 0.0, 0.0, 0.0, 0.0, 0.0, 2.0, ...\n",
       "39392    [1.0, 0.0, 0.0, 1.0, 2.0, 2.0, 0.0, 0.0, 0.0, ...\n",
       "30428    [0.0, 0.0, 0.0, 0.0, 2.0, 0.0, 0.0, 4.0, 0.0, ...\n",
       "17043    [2.0, 0.0, 0.0, 0.0, 0.0, 0.0, 0.0, 0.0, 0.0, ...\n",
       "30125    [0.0, 0.0, 0.0, 1.0, 1.0, 0.0, 1.0, 1.0, 0.0, ...\n",
       "1401     [0.0, 1.0, 0.0, 0.0, 2.0, 0.0, 1.0, 0.0, 0.0, ...\n",
       "17275    [0.0, 0.0, 0.0, 0.0, 1.0, 0.0, 0.0, 3.0, 0.0, ...\n",
       "39732    [0.0, 0.0, 0.0, 0.0, 0.0, 0.0, 0.0, 0.0, 0.0, ...\n",
       "44292    [3.0, 0.0, 0.0, 1.0, 0.0, 0.0, 0.0, 3.0, 2.0, ...\n",
       "20539    [4.0, 0.0, 0.0, 1.0, 0.0, 0.0, 4.0, 0.0, 0.0, ...\n",
       "8709     [4.0, 0.0, 0.0, 1.0, 2.0, 0.0, 0.0, 3.0, 0.0, ...\n",
       "Name: Semantics, Length: 26200, dtype: object"
      ]
     },
     "execution_count": 40,
     "metadata": {},
     "output_type": "execute_result"
    }
   ],
   "source": [
    "X_train"
   ]
  },
  {
   "cell_type": "code",
   "execution_count": 41,
   "metadata": {},
   "outputs": [],
   "source": [
    "#Tf-idf Unigrams\n",
    "Tfidf_vectorizer = TfidfVectorizer(stop_words='english', ngram_range=(1,1))\n",
    "\n",
    "TF_IDF_train3 = Tfidf_vectorizer.fit_transform(X_train.astype('str'))\n",
    "TF_IDF_test3 = Tfidf_vectorizer.transform(X_test.astype('str'))\n",
    "\n",
    "pickle.dump(TF_IDF_train3, open('TF_IDF_train3.pickle', 'wb'))\n",
    "pickle.dump(TF_IDF_test3, open('TF_IDF_test3.pickle', 'wb'))"
   ]
  },
  {
   "cell_type": "code",
   "execution_count": 42,
   "metadata": {},
   "outputs": [
    {
     "data": {
      "text/plain": [
       "['81', '82', '83', '84', '86', '87', '88', '93', '94', '96']"
      ]
     },
     "execution_count": 42,
     "metadata": {},
     "output_type": "execute_result"
    }
   ],
   "source": [
    "Tfidf_vectorizer.get_feature_names()[-10:]"
   ]
  },
  {
   "cell_type": "code",
   "execution_count": 43,
   "metadata": {},
   "outputs": [
    {
     "name": "stdout",
     "output_type": "stream",
     "text": [
      "Accuracy with Multinomial Naive Bayes:   0.777\n"
     ]
    }
   ],
   "source": [
    "# NO NEED TO USE VECTORIZATION ON SENTIMENTS AS THEY HAVE ALREADY BEEN VECTORIZED IN WORD EMBEDDINGS OF SEMANTICS\n",
    "\n",
    "classifier = MultinomialNB()\n",
    "classifier.fit(X_train.to_list(), y_train)\n",
    "\n",
    "pickle.dump(classifier, open('SENT_NB', 'wb'))\n",
    "\n",
    "pred = classifier.predict(X_test.to_list())\n",
    "score = metrics.accuracy_score(y_test, pred)\n",
    "\n",
    "print(\"Accuracy with Multinomial Naive Bayes:   %0.3f\" % score)"
   ]
  },
  {
   "cell_type": "code",
   "execution_count": 44,
   "metadata": {},
   "outputs": [
    {
     "name": "stdout",
     "output_type": "stream",
     "text": [
      "              precision    recall  f1-score   support\n",
      "\n",
      "        FAKE       0.79      0.79      0.79      6931\n",
      "        REAL       0.76      0.76      0.76      5974\n",
      "\n",
      "    accuracy                           0.78     12905\n",
      "   macro avg       0.78      0.78      0.78     12905\n",
      "weighted avg       0.78      0.78      0.78     12905\n",
      "\n"
     ]
    },
    {
     "data": {
      "image/png": "[encoded data removed]",
      "text/plain": [
       "<Figure size 432x288 with 2 Axes>"
      ]
     },
     "metadata": {
      "needs_background": "light"
     },
     "output_type": "display_data"
    }
   ],
   "source": [
    "matrix = metrics.confusion_matrix(y_test, pred, labels=['FAKE', 'REAL'])\n",
    "generate_confusion_matrix(matrix, classes=['FAKE', 'REAL'])\n",
    "\n",
    "print(metrics.classification_report(y_test, pred, target_names=['FAKE', 'REAL']))"
   ]
  },
  {
   "cell_type": "code",
   "execution_count": 45,
   "metadata": {},
   "outputs": [
    {
     "name": "stdout",
     "output_type": "stream",
     "text": [
      "Accuracy with KNeighbors Classifier:   0.772\n"
     ]
    }
   ],
   "source": [
    "classifier = KNeighborsClassifier()\n",
    "classifier.fit(X_train.to_list(), y_train)\n",
    "\n",
    "pickle.dump(classifier, open('SENT_KN', 'wb'))\n",
    "\n",
    "pred = classifier.predict(X_test.to_list())\n",
    "score = metrics.accuracy_score(y_test, pred)\n",
    "\n",
    "print(\"Accuracy with KNeighbors Classifier:   %0.3f\" % score)"
   ]
  },
  {
   "cell_type": "code",
   "execution_count": 46,
   "metadata": {},
   "outputs": [
    {
     "name": "stdout",
     "output_type": "stream",
     "text": [
      "              precision    recall  f1-score   support\n",
      "\n",
      "        FAKE       0.74      0.88      0.81      6931\n",
      "        REAL       0.82      0.65      0.72      5974\n",
      "\n",
      "    accuracy                           0.77     12905\n",
      "   macro avg       0.78      0.76      0.76     12905\n",
      "weighted avg       0.78      0.77      0.77     12905\n",
      "\n"
     ]
    },
    {
     "data": {
      "image/png": "[encoded data removed]",
      "text/plain": [
       "<Figure size 432x288 with 2 Axes>"
      ]
     },
     "metadata": {
      "needs_background": "light"
     },
     "output_type": "display_data"
    }
   ],
   "source": [
    "matrix = metrics.confusion_matrix(y_test, pred, labels=['FAKE', 'REAL'])\n",
    "generate_confusion_matrix(matrix, classes=['FAKE', 'REAL'])\n",
    "\n",
    "print(metrics.classification_report(y_test, pred, target_names=['FAKE', 'REAL']))"
   ]
  },
  {
   "cell_type": "code",
   "execution_count": 47,
   "metadata": {},
   "outputs": [
    {
     "name": "stderr",
     "output_type": "stream",
     "text": [
      "/home/vinayak/.local/lib/python3.5/site-packages/sklearn/linear_model/logistic.py:432: FutureWarning: Default solver will be changed to 'lbfgs' in 0.22. Specify a solver to silence this warning.\n",
      "  FutureWarning)\n"
     ]
    },
    {
     "name": "stdout",
     "output_type": "stream",
     "text": [
      "Accuracy with Logistic regression classifier:   0.828\n"
     ]
    }
   ],
   "source": [
    "classifier = LogisticRegression()\n",
    "classifier.fit(X_train.to_list(), y_train)\n",
    "\n",
    "pickle.dump(classifier, open('SENT_LR', 'wb'))\n",
    "\n",
    "pred = classifier.predict(X_test.to_list())\n",
    "score = metrics.accuracy_score(y_test, pred)\n",
    "\n",
    "print(\"Accuracy with Logistic regression classifier:   %0.3f\" % score)"
   ]
  },
  {
   "cell_type": "code",
   "execution_count": 48,
   "metadata": {},
   "outputs": [
    {
     "name": "stdout",
     "output_type": "stream",
     "text": [
      "              precision    recall  f1-score   support\n",
      "\n",
      "        FAKE       0.82      0.88      0.85      6931\n",
      "        REAL       0.85      0.77      0.81      5974\n",
      "\n",
      "    accuracy                           0.83     12905\n",
      "   macro avg       0.83      0.82      0.83     12905\n",
      "weighted avg       0.83      0.83      0.83     12905\n",
      "\n"
     ]
    },
    {
     "data": {
      "image/png": "[encoded data removed]",
      "text/plain": [
       "<Figure size 432x288 with 2 Axes>"
      ]
     },
     "metadata": {
      "needs_background": "light"
     },
     "output_type": "display_data"
    }
   ],
   "source": [
    "matrix = metrics.confusion_matrix(y_test, pred, labels=['FAKE', 'REAL'])\n",
    "generate_confusion_matrix(matrix, classes=['FAKE', 'REAL'])\n",
    "\n",
    "print(metrics.classification_report(y_test, pred, target_names=['FAKE', 'REAL']))"
   ]
  },
  {
   "cell_type": "code",
   "execution_count": 49,
   "metadata": {},
   "outputs": [
    {
     "name": "stderr",
     "output_type": "stream",
     "text": [
      "/home/vinayak/.local/lib/python3.5/site-packages/sklearn/ensemble/forest.py:245: FutureWarning: The default value of n_estimators will change from 10 in version 0.20 to 100 in 0.22.\n",
      "  \"10 in version 0.20 to 100 in 0.22.\", FutureWarning)\n"
     ]
    },
    {
     "name": "stdout",
     "output_type": "stream",
     "text": [
      "Accuracy with Random Forest Classifier:   0.810\n"
     ]
    }
   ],
   "source": [
    "classifier = RandomForestClassifier()\n",
    "classifier.fit(X_train.to_list(), y_train)\n",
    "\n",
    "pickle.dump(classifier, open('SENT_RF', 'wb'))\n",
    "\n",
    "pred = classifier.predict(X_test.to_list())\n",
    "score = metrics.accuracy_score(y_test, pred)\n",
    "\n",
    "print(\"Accuracy with Random Forest Classifier:   %0.3f\" % score)"
   ]
  },
  {
   "cell_type": "code",
   "execution_count": 50,
   "metadata": {},
   "outputs": [
    {
     "name": "stdout",
     "output_type": "stream",
     "text": [
      "              precision    recall  f1-score   support\n",
      "\n",
      "        FAKE       0.78      0.90      0.83      6931\n",
      "        REAL       0.85      0.71      0.78      5974\n",
      "\n",
      "    accuracy                           0.81     12905\n",
      "   macro avg       0.82      0.80      0.81     12905\n",
      "weighted avg       0.82      0.81      0.81     12905\n",
      "\n"
     ]
    },
    {
     "data": {
      "image/png": "[encoded data removed]",
      "text/plain": [
       "<Figure size 432x288 with 2 Axes>"
      ]
     },
     "metadata": {
      "needs_background": "light"
     },
     "output_type": "display_data"
    }
   ],
   "source": [
    "matrix = metrics.confusion_matrix(y_test, pred, labels=['FAKE', 'REAL'])\n",
    "generate_confusion_matrix(matrix, classes=['FAKE', 'REAL'])\n",
    "\n",
    "print(metrics.classification_report(y_test, pred, target_names=['FAKE', 'REAL']))"
   ]
  },
  {
   "cell_type": "markdown",
   "metadata": {},
   "source": [
    "## Combining these 3 parameters to build a final model"
   ]
  },
  {
   "cell_type": "code",
   "execution_count": 51,
   "metadata": {},
   "outputs": [
    {
     "name": "stdout",
     "output_type": "stream",
     "text": [
      "Index(['Headline', 'Body', 'Label', 'Text', 'Text_pos', 'Semantics',\n",
      "       'Sentiments'],\n",
      "      dtype='object')\n",
      "(39105, 7)\n"
     ]
    }
   ],
   "source": [
    "data = pd.read_pickle('Sentiments.pkl')\n",
    "print(data.columns)\n",
    "print(data.shape)"
   ]
  },
  {
   "cell_type": "code",
   "execution_count": 52,
   "metadata": {},
   "outputs": [],
   "source": [
    "y_data = data.Label\n",
    "X_train, X_test, y_train, y_test = train_test_split(data, y_data, test_size=0.33)"
   ]
  },
  {
   "cell_type": "code",
   "execution_count": 53,
   "metadata": {},
   "outputs": [],
   "source": [
    "X_train_text = X_train['Text']\n",
    "X_test_text = X_test['Text']\n",
    "\n",
    "X_train_text_pos = X_train['Text_pos']\n",
    "X_test_text_pos = X_test['Text_pos']\n",
    "\n",
    "X_train_semantics = X_train['Semantics']\n",
    "X_test_semantics = X_test['Semantics']"
   ]
  },
  {
   "cell_type": "code",
   "execution_count": 54,
   "metadata": {},
   "outputs": [],
   "source": [
    "#Tf-idf Bigrams\n",
    "Tfidf_vectorizer = TfidfVectorizer(stop_words='english', ngram_range=(2,2))\n",
    "\n",
    "TF_IDF_train1 = Tfidf_vectorizer.fit_transform(X_train_text.astype('str'))\n",
    "TF_IDF_test1 = Tfidf_vectorizer.transform(X_test_text.astype('str'))\n",
    "\n",
    "pickle.dump(TF_IDF_train1, open('TF_IDF_train1.pickle', 'wb'))\n",
    "pickle.dump(TF_IDF_test1, open('TF_IDF_test1.pickle', 'wb'))"
   ]
  },
  {
   "cell_type": "code",
   "execution_count": 55,
   "metadata": {},
   "outputs": [],
   "source": [
    "#Tf-idf Bigrams\n",
    "Tfidf_vectorizer = TfidfVectorizer(stop_words='english', ngram_range=(2,2))\n",
    "\n",
    "TF_IDF_train2 = Tfidf_vectorizer.fit_transform(X_train_text_pos.astype('str'))\n",
    "TF_IDF_test2 = Tfidf_vectorizer.transform(X_test_text_pos.astype('str'))\n",
    "\n",
    "pickle.dump(TF_IDF_train2, open('TF_IDF_train2.pickle', 'wb'))\n",
    "pickle.dump(TF_IDF_test2, open('TF_IDF_test2.pickle', 'wb'))"
   ]
  },
  {
   "cell_type": "code",
   "execution_count": 56,
   "metadata": {},
   "outputs": [],
   "source": [
    "#Tf-idf Unigrams\n",
    "Tfidf_vectorizer = TfidfVectorizer(stop_words='english', ngram_range=(1,1))\n",
    "\n",
    "TF_IDF_train3 = Tfidf_vectorizer.fit_transform(X_train_semantics.astype('str'))\n",
    "TF_IDF_test3 = Tfidf_vectorizer.transform(X_test_semantics.astype('str'))\n",
    "\n",
    "pickle.dump(TF_IDF_train3, open('TF_IDF_train3.pickle', 'wb'))\n",
    "pickle.dump(TF_IDF_test3, open('TF_IDF_test3.pickle', 'wb'))"
   ]
  },
  {
   "cell_type": "code",
   "execution_count": 57,
   "metadata": {},
   "outputs": [],
   "source": [
    "# The three vector features\n",
    "\n",
    "train1 = TF_IDF_train1\n",
    "test1 = TF_IDF_test1\n",
    "\n",
    "train2 = TF_IDF_train2\n",
    "test2 = TF_IDF_test2\n",
    "\n",
    "train3 = TF_IDF_train3\n",
    "test3 = TF_IDF_test3"
   ]
  },
  {
   "cell_type": "code",
   "execution_count": 58,
   "metadata": {},
   "outputs": [],
   "source": [
    "#Giving weights to each of the 3 feature vectors generated\n",
    "\n",
    "big_w = 0.35\n",
    "synt_w = 0.5\n",
    "sem_w = 0.15\n",
    "big_w *= 3\n",
    "synt_w *= 3\n",
    "sem_w *= 3\n",
    "\n",
    "TF_IDF_train1 = big_w*train1\n",
    "TF_IDF_test1 = big_w*test1\n",
    "\n",
    "TF_IDF_train2 = synt_w*train2\n",
    "TF_IDF_test2 = synt_w*test2\n",
    "\n",
    "TF_IDF_train3 = sem_w*train3\n",
    "TF_IDF_test3 = sem_w*test3"
   ]
  },
  {
   "cell_type": "code",
   "execution_count": 59,
   "metadata": {},
   "outputs": [],
   "source": [
    "import scipy.sparse as sp\n",
    "\n",
    "diff_n_rows = TF_IDF_train2.shape[0] - TF_IDF_train1.shape[0]\n",
    "\n",
    "Xb_new = sp.vstack((TF_IDF_train1, sp.csr_matrix((diff_n_rows, TF_IDF_train1.shape[1])))) \n",
    "#where diff_n_rows is the difference of the number of rows between Xa and Xb\n",
    "\n",
    "c = sp.hstack((TF_IDF_train2, Xb_new))\n",
    "\n",
    "diff_n_rows = c.shape[0] - TF_IDF_train3.shape[0]\n",
    "\n",
    "Xb_new = sp.vstack((TF_IDF_train3, sp.csr_matrix((diff_n_rows, TF_IDF_train3.shape[1])))) \n",
    "#where diff_n_rows is the difference of the number of rows between Xa and Xb\n",
    "\n",
    "X = sp.hstack((c, Xb_new))\n",
    "X\n",
    "\n",
    "dif_n_rows = TF_IDF_test2.shape[0] - TF_IDF_test1.shape[0]\n",
    "\n",
    "Xb_ne = sp.vstack((TF_IDF_test1, sp.csr_matrix((dif_n_rows, TF_IDF_test1.shape[1])))) \n",
    "#where diff_n_rows is the difference of the number of rows between Xa and Xb\n",
    "\n",
    "d = sp.hstack((TF_IDF_test2, Xb_ne))\n",
    "\n",
    "dif_n_rows = d.shape[0] - TF_IDF_test3.shape[0]\n",
    "\n",
    "Xb_ne = sp.vstack((TF_IDF_test3, sp.csr_matrix((dif_n_rows, TF_IDF_test3.shape[1])))) \n",
    "#where diff_n_rows is the difference of the number of rows between Xa and Xb\n",
    "\n",
    "Y = sp.hstack((d, Xb_ne))"
   ]
  },
  {
   "cell_type": "code",
   "execution_count": 60,
   "metadata": {},
   "outputs": [
    {
     "name": "stdout",
     "output_type": "stream",
     "text": [
      "Accuracy with KNeighbors Classifier:   0.913\n"
     ]
    }
   ],
   "source": [
    "classifier = KNeighborsClassifier()\n",
    "classifier.fit(X, y_train)\n",
    "\n",
    "pickle.dump(classifier, open('Bi_POS_SENT_KN', 'wb'))\n",
    "\n",
    "pred = classifier.predict(Y)\n",
    "score = metrics.accuracy_score(y_test, pred)\n",
    "\n",
    "print(\"Accuracy with KNeighbors Classifier:   %0.3f\" % score)"
   ]
  },
  {
   "cell_type": "code",
   "execution_count": 61,
   "metadata": {},
   "outputs": [
    {
     "name": "stdout",
     "output_type": "stream",
     "text": [
      "              precision    recall  f1-score   support\n",
      "\n",
      "        FAKE       0.87      0.99      0.93      7016\n",
      "        REAL       0.99      0.82      0.90      5889\n",
      "\n",
      "    accuracy                           0.91     12905\n",
      "   macro avg       0.93      0.91      0.91     12905\n",
      "weighted avg       0.92      0.91      0.91     12905\n",
      "\n"
     ]
    },
    {
     "data": {
      "image/png": "[encoded data removed]",
      "text/plain": [
       "<Figure size 432x288 with 2 Axes>"
      ]
     },
     "metadata": {
      "needs_background": "light"
     },
     "output_type": "display_data"
    }
   ],
   "source": [
    "matrix = metrics.confusion_matrix(y_test, pred, labels=['FAKE', 'REAL'])\n",
    "generate_confusion_matrix(matrix, classes=['FAKE', 'REAL'])\n",
    "\n",
    "print(metrics.classification_report(y_test, pred, target_names=['FAKE', 'REAL']))"
   ]
  },
  {
   "cell_type": "code",
   "execution_count": 62,
   "metadata": {},
   "outputs": [
    {
     "name": "stdout",
     "output_type": "stream",
     "text": [
      "Accuracy with Multinomial Naive Bayes:   0.916\n"
     ]
    }
   ],
   "source": [
    "classifier = MultinomialNB()\n",
    "classifier.fit(X, y_train)\n",
    "\n",
    "pickle.dump(classifier, open('Bi_POS_SENT_NB', 'wb'))\n",
    "\n",
    "pred = classifier.predict(Y)\n",
    "score = metrics.accuracy_score(y_test, pred)\n",
    "\n",
    "print(\"Accuracy with Multinomial Naive Bayes:   %0.3f\" % score)"
   ]
  },
  {
   "cell_type": "code",
   "execution_count": 63,
   "metadata": {},
   "outputs": [
    {
     "name": "stdout",
     "output_type": "stream",
     "text": [
      "              precision    recall  f1-score   support\n",
      "\n",
      "        FAKE       0.87      1.00      0.93      7016\n",
      "        REAL       1.00      0.82      0.90      5889\n",
      "\n",
      "    accuracy                           0.92     12905\n",
      "   macro avg       0.93      0.91      0.91     12905\n",
      "weighted avg       0.93      0.92      0.92     12905\n",
      "\n"
     ]
    },
    {
     "data": {
      "image/png": "[encoded data removed]",
      "text/plain": [
       "<Figure size 432x288 with 2 Axes>"
      ]
     },
     "metadata": {
      "needs_background": "light"
     },
     "output_type": "display_data"
    }
   ],
   "source": [
    "matrix = metrics.confusion_matrix(y_test, pred, labels=['FAKE', 'REAL'])\n",
    "generate_confusion_matrix(matrix, classes=['FAKE', 'REAL'])\n",
    "\n",
    "print(metrics.classification_report(y_test, pred, target_names=['FAKE', 'REAL']))"
   ]
  },
  {
   "cell_type": "code",
   "execution_count": 64,
   "metadata": {},
   "outputs": [
    {
     "name": "stderr",
     "output_type": "stream",
     "text": [
      "/home/vinayak/.local/lib/python3.5/site-packages/sklearn/linear_model/logistic.py:432: FutureWarning: Default solver will be changed to 'lbfgs' in 0.22. Specify a solver to silence this warning.\n",
      "  FutureWarning)\n"
     ]
    },
    {
     "name": "stdout",
     "output_type": "stream",
     "text": [
      "Accuracy with Logistic regression classifier:   0.969\n"
     ]
    }
   ],
   "source": [
    "classifier = LogisticRegression()\n",
    "classifier.fit(X, y_train)\n",
    "\n",
    "pickle.dump(classifier, open('Bi_POS_SENT_LR', 'wb'))\n",
    "\n",
    "pred = classifier.predict(Y)\n",
    "score = metrics.accuracy_score(y_test, pred)\n",
    "\n",
    "print(\"Accuracy with Logistic regression classifier:   %0.3f\" % score)"
   ]
  },
  {
   "cell_type": "code",
   "execution_count": 65,
   "metadata": {},
   "outputs": [
    {
     "name": "stdout",
     "output_type": "stream",
     "text": [
      "              precision    recall  f1-score   support\n",
      "\n",
      "        FAKE       0.96      0.98      0.97      7016\n",
      "        REAL       0.98      0.95      0.97      5889\n",
      "\n",
      "    accuracy                           0.97     12905\n",
      "   macro avg       0.97      0.97      0.97     12905\n",
      "weighted avg       0.97      0.97      0.97     12905\n",
      "\n"
     ]
    },
    {
     "data": {
      "image/png": "[encoded data removed]",
      "text/plain": [
       "<Figure size 432x288 with 2 Axes>"
      ]
     },
     "metadata": {
      "needs_background": "light"
     },
     "output_type": "display_data"
    }
   ],
   "source": [
    "matrix = metrics.confusion_matrix(y_test, pred, labels=['FAKE', 'REAL'])\n",
    "generate_confusion_matrix(matrix, classes=['FAKE', 'REAL'])\n",
    "\n",
    "print(metrics.classification_report(y_test, pred, target_names=['FAKE', 'REAL']))"
   ]
  },
  {
   "cell_type": "code",
   "execution_count": 66,
   "metadata": {},
   "outputs": [
    {
     "name": "stderr",
     "output_type": "stream",
     "text": [
      "/home/vinayak/.local/lib/python3.5/site-packages/sklearn/ensemble/forest.py:245: FutureWarning: The default value of n_estimators will change from 10 in version 0.20 to 100 in 0.22.\n",
      "  \"10 in version 0.20 to 100 in 0.22.\", FutureWarning)\n"
     ]
    },
    {
     "name": "stdout",
     "output_type": "stream",
     "text": [
      "Accuracy with Random Forest Classifier:   0.914\n"
     ]
    }
   ],
   "source": [
    "classifier = RandomForestClassifier()\n",
    "classifier.fit(X, y_train)\n",
    "\n",
    "pickle.dump(classifier, open('Bi_POS_SENT_RF', 'wb'))\n",
    "\n",
    "pred = classifier.predict(Y)\n",
    "score = metrics.accuracy_score(y_test, pred)\n",
    "\n",
    "print(\"Accuracy with Random Forest Classifier:   %0.3f\" % score)"
   ]
  },
  {
   "cell_type": "code",
   "execution_count": 67,
   "metadata": {},
   "outputs": [
    {
     "name": "stdout",
     "output_type": "stream",
     "text": [
      "              precision    recall  f1-score   support\n",
      "\n",
      "        FAKE       0.88      0.97      0.92      7016\n",
      "        REAL       0.96      0.84      0.90      5889\n",
      "\n",
      "    accuracy                           0.91     12905\n",
      "   macro avg       0.92      0.91      0.91     12905\n",
      "weighted avg       0.92      0.91      0.91     12905\n",
      "\n"
     ]
    },
    {
     "data": {
      "image/png": "[encoded data removed]",
      "text/plain": [
       "<Figure size 432x288 with 2 Axes>"
      ]
     },
     "metadata": {
      "needs_background": "light"
     },
     "output_type": "display_data"
    }
   ],
   "source": [
    "matrix = metrics.confusion_matrix(y_test, pred, labels=['FAKE', 'REAL'])\n",
    "generate_confusion_matrix(matrix, classes=['FAKE', 'REAL'])\n",
    "\n",
    "print(metrics.classification_report(y_test, pred, target_names=['FAKE', 'REAL']))"
   ]
  },
  {
   "cell_type": "code",
   "execution_count": null,
   "metadata": {},
   "outputs": [],
   "source": []
  },
  {
   "cell_type": "code",
   "execution_count": null,
   "metadata": {},
   "outputs": [],
   "source": []
  },
  {
   "cell_type": "code",
   "execution_count": null,
   "metadata": {},
   "outputs": [],
   "source": []
  },
  {
   "cell_type": "code",
   "execution_count": null,
   "metadata": {},
   "outputs": [],
   "source": []
  },
  {
   "cell_type": "code",
   "execution_count": null,
   "metadata": {},
   "outputs": [],
   "source": []
  }
 ],
 "metadata": {
  "kernelspec": {
   "display_name": "Python 3",
   "language": "python",
   "name": "python3"
  },
  "language_info": {
   "codemirror_mode": {
    "name": "ipython",
    "version": 3
   },
   "file_extension": ".py",
   "mimetype": "text/x-python",
   "name": "python",
   "nbconvert_exporter": "python",
   "pygments_lexer": "ipython3",
   "version": "3.5.2"
  }
 },
 "nbformat": 4,
 "nbformat_minor": 2
}
