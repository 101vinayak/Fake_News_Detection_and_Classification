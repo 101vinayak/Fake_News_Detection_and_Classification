{
 "cells": [
  {
   "cell_type": "code",
   "execution_count": 1,
   "metadata": {},
   "outputs": [],
   "source": [
    "import pandas as pd\n",
    "import numpy as np\n",
    "import matplotlib.pyplot as plt\n",
    "\n",
    "from sklearn.model_selection import train_test_split\n",
    "from sklearn.feature_extraction.text import TfidfVectorizer, CountVectorizer\n",
    "from sklearn.naive_bayes import MultinomialNB\n",
    "from sklearn.linear_model import LogisticRegression\n",
    "from sklearn.ensemble import RandomForestClassifier, GradientBoostingClassifier\n",
    "from sklearn import metrics\n",
    "from sklearn import svm\n",
    "from empath import Empath\n",
    "import itertools\n",
    "import pickle\n",
    "import spacy\n",
    "\n",
    "from dataset_prep import dataset"
   ]
  },
  {
   "cell_type": "code",
   "execution_count": 2,
   "metadata": {},
   "outputs": [
    {
     "data": {
      "text/html": [
       "<div>\n",
       "<style scoped>\n",
       "    .dataframe tbody tr th:only-of-type {\n",
       "        vertical-align: middle;\n",
       "    }\n",
       "\n",
       "    .dataframe tbody tr th {\n",
       "        vertical-align: top;\n",
       "    }\n",
       "\n",
       "    .dataframe thead th {\n",
       "        text-align: right;\n",
       "    }\n",
       "</style>\n",
       "<table border=\"1\" class=\"dataframe\">\n",
       "  <thead>\n",
       "    <tr style=\"text-align: right;\">\n",
       "      <th></th>\n",
       "      <th>Headline</th>\n",
       "      <th>Body</th>\n",
       "      <th>Label</th>\n",
       "    </tr>\n",
       "  </thead>\n",
       "  <tbody>\n",
       "    <tr>\n",
       "      <th>0</th>\n",
       "      <td>U.S. ends temporary protected status for Sudan...</td>\n",
       "      <td>WASHINGTON (Reuters) - The United States is en...</td>\n",
       "      <td>FAKE</td>\n",
       "    </tr>\n",
       "    <tr>\n",
       "      <th>1</th>\n",
       "      <td>Confident Trump says could 'shoot somebody' an...</td>\n",
       "      <td>PELLA, Iowa /ANKENY, Iowa (Reuters) - U.S. Rep...</td>\n",
       "      <td>FAKE</td>\n",
       "    </tr>\n",
       "    <tr>\n",
       "      <th>2</th>\n",
       "      <td>Iran says no need to increase missile range as...</td>\n",
       "      <td>LONDON (Reuters) - Iran has no need to increas...</td>\n",
       "      <td>FAKE</td>\n",
       "    </tr>\n",
       "    <tr>\n",
       "      <th>3</th>\n",
       "      <td>Anti-Defamation League LITERALLY Schools Sean...</td>\n",
       "      <td>After White House Press Secretary Sean Spicer ...</td>\n",
       "      <td>REAL</td>\n",
       "    </tr>\n",
       "    <tr>\n",
       "      <th>4</th>\n",
       "      <td>EU must be part of U.S. Middle East peace push...</td>\n",
       "      <td>TALLINN (Reuters) - Israelis and Palestinians ...</td>\n",
       "      <td>FAKE</td>\n",
       "    </tr>\n",
       "  </tbody>\n",
       "</table>\n",
       "</div>"
      ],
      "text/plain": [
       "                                            Headline  \\\n",
       "0  U.S. ends temporary protected status for Sudan...   \n",
       "1  Confident Trump says could 'shoot somebody' an...   \n",
       "2  Iran says no need to increase missile range as...   \n",
       "3   Anti-Defamation League LITERALLY Schools Sean...   \n",
       "4  EU must be part of U.S. Middle East peace push...   \n",
       "\n",
       "                                                Body Label  \n",
       "0  WASHINGTON (Reuters) - The United States is en...  FAKE  \n",
       "1  PELLA, Iowa /ANKENY, Iowa (Reuters) - U.S. Rep...  FAKE  \n",
       "2  LONDON (Reuters) - Iran has no need to increas...  FAKE  \n",
       "3  After White House Press Secretary Sean Spicer ...  REAL  \n",
       "4  TALLINN (Reuters) - Israelis and Palestinians ...  FAKE  "
      ]
     },
     "execution_count": 2,
     "metadata": {},
     "output_type": "execute_result"
    }
   ],
   "source": [
    "filename = dataset()\n",
    "data = pd.read_csv(filename)\n",
    "\n",
    "data.loc[data['Label']== 0, 'Label'] = 'REAL'\n",
    "data.loc[data['Label']== 1, 'Label'] = 'FAKE'\n",
    "\n",
    "data.head()"
   ]
  },
  {
   "cell_type": "code",
   "execution_count": 3,
   "metadata": {},
   "outputs": [
    {
     "data": {
      "text/plain": [
       "REAL    23481\n",
       "FAKE    21417\n",
       "Name: Label, dtype: int64"
      ]
     },
     "execution_count": 3,
     "metadata": {},
     "output_type": "execute_result"
    }
   ],
   "source": [
    "data['Label'].value_counts()"
   ]
  },
  {
   "cell_type": "code",
   "execution_count": 4,
   "metadata": {},
   "outputs": [
    {
     "data": {
      "text/plain": [
       "<matplotlib.axes._subplots.AxesSubplot at 0x7f7ccee222e8>"
      ]
     },
     "execution_count": 4,
     "metadata": {},
     "output_type": "execute_result"
    },
    {
     "data": {
      "image/png": "[encoded data removed]",
      "text/plain": [
       "<Figure size 432x288 with 1 Axes>"
      ]
     },
     "metadata": {
      "needs_background": "light"
     },
     "output_type": "display_data"
    }
   ],
   "source": [
    "data['Label'].value_counts().plot(kind = 'bar')"
   ]
  },
  {
   "cell_type": "markdown",
   "metadata": {},
   "source": [
    "## Data Cleaning"
   ]
  },
  {
   "cell_type": "code",
   "execution_count": 5,
   "metadata": {},
   "outputs": [],
   "source": [
    "data['Text'] = data['Headline'].map(str) + data['Body']\n",
    "\n",
    "#Drop Duplicates\n",
    "data.drop_duplicates(subset='Text', inplace=True)\n",
    "\n",
    "#Convert all to lower case\n",
    "data['Text'] = data['Text'].str.lower()\n",
    "\n",
    "#Remove all punctuations\n",
    "data['Text'] = data['Text'].str.replace('[^\\w\\s]',' ')\n",
    "\n",
    "#Remove all digits\n",
    "data['Text'] = data['Text'].str.replace('[^A-Za-z]',' ')\n",
    "\n",
    "#Double spaces removed\n",
    "data['Text'] = data['Text'].str.replace('  ',' ')\n",
    "\n",
    "y_data = data.Label\n",
    "y_data = y_data.astype('str')\n",
    "\n",
    "X_train, X_test, y_train, y_test = train_test_split(data['Text'], y_data, test_size=0.2)"
   ]
  },
  {
   "cell_type": "code",
   "execution_count": 6,
   "metadata": {},
   "outputs": [
    {
     "name": "stdout",
     "output_type": "stream",
     "text": [
      "(31284,) (31284,)\n",
      "(7821,) (7821,)\n"
     ]
    }
   ],
   "source": [
    "print(X_train.shape, y_train.shape)\n",
    "print(X_test.shape, y_test.shape)"
   ]
  },
  {
   "cell_type": "code",
   "execution_count": 7,
   "metadata": {},
   "outputs": [
    {
     "data": {
      "text/plain": [
       "24324    playing politics here s why a judge will unsea...\n",
       "37736     chicago police dept points out two huge flaws...\n",
       "26572    epa chief visits indiana waste site amid propo...\n",
       "17572     trump doubles down via the law moves to prote...\n",
       "40855     watch fox news host vies for dumbest on netwo...\n",
       "21922    the trump presidency on feb   at   p m est reu...\n",
       "33423     elijah cummings called trump out to his face ...\n",
       "38755    mccain says time for republicans democrats to ...\n",
       "34709    gbagbo allies behind attacks in ivory coast in...\n",
       "12311    ouch   minimum wage activist interviewed by ca...\n",
       "Name: Text, dtype: object"
      ]
     },
     "execution_count": 7,
     "metadata": {},
     "output_type": "execute_result"
    }
   ],
   "source": [
    "X_test[:10]"
   ]
  },
  {
   "cell_type": "markdown",
   "metadata": {},
   "source": [
    "## Vectorization"
   ]
  },
  {
   "cell_type": "code",
   "execution_count": 8,
   "metadata": {},
   "outputs": [],
   "source": [
    "#Tf-idf Bigrams\n",
    "Tfidf_vectorizer = TfidfVectorizer(stop_words='english', ngram_range=(2,2))\n",
    "\n",
    "TF_IDF_train1 = Tfidf_vectorizer.fit_transform(X_train.astype('str'))\n",
    "TF_IDF_test1 = Tfidf_vectorizer.transform(X_test.astype('str'))\n",
    "\n",
    "pickle.dump(TF_IDF_train1, open('TF_IDF_train1.pickle', 'wb'))\n",
    "pickle.dump(TF_IDF_test1, open('TF_IDF_test1.pickle', 'wb'))"
   ]
  },
  {
   "cell_type": "code",
   "execution_count": 9,
   "metadata": {},
   "outputs": [
    {
     "data": {
      "text/plain": [
       "['zztaine feminit',\n",
       " 'zztw https',\n",
       " 'zzuml hkoc',\n",
       " 'zzywyr sean',\n",
       " 'zzz ek',\n",
       " 'zzzzaaaacccchhh april',\n",
       " 'zzzzaaaacccchhh january',\n",
       " 'zzzzaaaacccchhh march',\n",
       " 'zzzzzzzz boring',\n",
       " 'zzzzzzzzzzzzz new']"
      ]
     },
     "execution_count": 9,
     "metadata": {},
     "output_type": "execute_result"
    }
   ],
   "source": [
    "Tfidf_vectorizer.get_feature_names()[-10:]"
   ]
  },
  {
   "cell_type": "code",
   "execution_count": 10,
   "metadata": {},
   "outputs": [],
   "source": [
    "# Create a Confusion-Matrix\n",
    "def generate_confusion_matrix(matrix, classes, normalize=False):\n",
    "    \n",
    "    plt.imshow(matrix, interpolation='nearest', cmap = plt.cm.Blues)\n",
    "    plt.title('Confusion-Matrix')\n",
    "    plt.colorbar()\n",
    "    \n",
    "    labels = np.arange(len(classes))\n",
    "    plt.xticks(labels, classes, rotation=90)\n",
    "    plt.yticks(labels, classes)\n",
    "    \n",
    "    if normalize:\n",
    "        matrix = matrix.astype('float')/matrix.sum(axis=0)[:, np.newaxis]\n",
    "        plt.title('Normalized Confusion-Matrix')\n",
    "    \n",
    "    thresh = matrix.max()/2\n",
    "    \n",
    "    for i, j in itertools.product(range(matrix.shape[0]), range(matrix.shape[1])):\n",
    "        plt.text(j, i, matrix[i, j],\n",
    "                 horizontalalignment=\"center\",\n",
    "                 color=\"white\" if matrix[i, j] > thresh else \"black\")\n",
    "\n",
    "    plt.tight_layout()\n",
    "    plt.ylabel('True label')\n",
    "    plt.xlabel('Predicted label')"
   ]
  },
  {
   "cell_type": "markdown",
   "metadata": {},
   "source": [
    "### Multinomial Naive Bayes"
   ]
  },
  {
   "cell_type": "code",
   "execution_count": 11,
   "metadata": {},
   "outputs": [
    {
     "name": "stdout",
     "output_type": "stream",
     "text": [
      "Accuracy with Multinomial Naive Bayes:   0.950\n"
     ]
    }
   ],
   "source": [
    "classifier = MultinomialNB()\n",
    "classifier.fit(TF_IDF_train1, y_train)\n",
    "\n",
    "pickle.dump(classifier, open('TF_IDF_NB', 'wb'))\n",
    "\n",
    "pred = classifier.predict(TF_IDF_test1)\n",
    "score = metrics.accuracy_score(y_test, pred)\n",
    "\n",
    "print(\"Accuracy with Multinomial Naive Bayes:   %0.3f\" % score)"
   ]
  },
  {
   "cell_type": "code",
   "execution_count": 12,
   "metadata": {},
   "outputs": [
    {
     "data": {
      "image/png": "[encoded data removed]",
      "text/plain": [
       "<Figure size 432x288 with 2 Axes>"
      ]
     },
     "metadata": {
      "needs_background": "light"
     },
     "output_type": "display_data"
    }
   ],
   "source": [
    "matrix = metrics.confusion_matrix(y_test, pred, labels=['FAKE', 'REAL'])\n",
    "generate_confusion_matrix(matrix, classes=['FAKE', 'REAL'])"
   ]
  },
  {
   "cell_type": "markdown",
   "metadata": {},
   "source": [
    "### Logistic Regression Classifier"
   ]
  },
  {
   "cell_type": "code",
   "execution_count": 13,
   "metadata": {},
   "outputs": [
    {
     "name": "stderr",
     "output_type": "stream",
     "text": [
      "/home/vinayak/.local/lib/python3.5/site-packages/sklearn/linear_model/logistic.py:432: FutureWarning: Default solver will be changed to 'lbfgs' in 0.22. Specify a solver to silence this warning.\n",
      "  FutureWarning)\n"
     ]
    },
    {
     "name": "stdout",
     "output_type": "stream",
     "text": [
      "Accuracy with Logistic regression classifier:   0.977\n"
     ]
    }
   ],
   "source": [
    "classifier = LogisticRegression()\n",
    "classifier.fit(TF_IDF_train1, y_train)\n",
    "\n",
    "pickle.dump(classifier, open('TF_IDF_LR', 'wb'))\n",
    "\n",
    "pred = classifier.predict(TF_IDF_test1)\n",
    "score = metrics.accuracy_score(y_test, pred)\n",
    "\n",
    "print(\"Accuracy with Logistic regression classifier:   %0.3f\" % score)"
   ]
  },
  {
   "cell_type": "code",
   "execution_count": 14,
   "metadata": {},
   "outputs": [
    {
     "data": {
      "image/png": "[encoded data removed]",
      "text/plain": [
       "<Figure size 432x288 with 2 Axes>"
      ]
     },
     "metadata": {
      "needs_background": "light"
     },
     "output_type": "display_data"
    }
   ],
   "source": [
    "matrix = metrics.confusion_matrix(y_test, pred, labels=['FAKE', 'REAL'])\n",
    "generate_confusion_matrix(matrix, classes=['FAKE', 'REAL'])"
   ]
  },
  {
   "cell_type": "markdown",
   "metadata": {},
   "source": [
    "### Random Forest Classifier"
   ]
  },
  {
   "cell_type": "code",
   "execution_count": 15,
   "metadata": {},
   "outputs": [
    {
     "name": "stderr",
     "output_type": "stream",
     "text": [
      "/home/vinayak/.local/lib/python3.5/site-packages/sklearn/ensemble/forest.py:245: FutureWarning: The default value of n_estimators will change from 10 in version 0.20 to 100 in 0.22.\n",
      "  \"10 in version 0.20 to 100 in 0.22.\", FutureWarning)\n"
     ]
    },
    {
     "name": "stdout",
     "output_type": "stream",
     "text": [
      "Accuracy with Random Forest Classifier:   0.943\n"
     ]
    }
   ],
   "source": [
    "classifier = RandomForestClassifier()\n",
    "classifier.fit(TF_IDF_train1, y_train)\n",
    "\n",
    "pickle.dump(classifier, open('TF_IDF_RF', 'wb'))\n",
    "\n",
    "pred = classifier.predict(TF_IDF_test1)\n",
    "score = metrics.accuracy_score(y_test, pred)\n",
    "\n",
    "print(\"Accuracy with Random Forest Classifier:   %0.3f\" % score)"
   ]
  },
  {
   "cell_type": "code",
   "execution_count": 16,
   "metadata": {},
   "outputs": [
    {
     "data": {
      "image/png": "[encoded data removed]",
      "text/plain": [
       "<Figure size 432x288 with 2 Axes>"
      ]
     },
     "metadata": {
      "needs_background": "light"
     },
     "output_type": "display_data"
    }
   ],
   "source": [
    "matrix = metrics.confusion_matrix(y_test, pred, labels=['FAKE', 'REAL'])\n",
    "generate_confusion_matrix(matrix, classes=['FAKE', 'REAL'])"
   ]
  },
  {
   "cell_type": "markdown",
   "metadata": {},
   "source": [
    "## Adding POS Tags in the dataset"
   ]
  },
  {
   "cell_type": "code",
   "execution_count": 17,
   "metadata": {},
   "outputs": [],
   "source": [
    "import en_core_web_sm\n",
    "nlp = en_core_web_sm.load()\n",
    "x = []\n",
    "\n",
    "data[\"Text\"] = data[\"Headline\"].map(str) + data[\"Body\"]\n",
    "for text in data['Text']:\n",
    "    text_new = []\n",
    "    doc = nlp(text)\n",
    "    for token in doc:\n",
    "        text_new.append(token.pos_)\n",
    "    txt = ' '.join(text_new)\n",
    "    x.append(txt)\n",
    "\n",
    "data['Text_pos'] = x\n",
    "data.to_pickle('newdata.pkl')"
   ]
  },
  {
   "cell_type": "code",
   "execution_count": 18,
   "metadata": {},
   "outputs": [
    {
     "data": {
      "text/plain": [
       "23542    PROPN PART PROPN PROPN VERB PROPN PROPN ADP PR...\n",
       "14318    ADJ NOUN VERB PROPN NOUN PUNCT PUNCT PUNCT PRO...\n",
       "41917    SPACE PROPN PROPN VERB PROPN ADP PROPN PUNCT C...\n",
       "19974    PROPN PROPN VERB PRON VERB SYM NUM NUM ADP NOU...\n",
       "31720    ADJ ADJ NOUN VERB PROPN NOUN ADP VERB NOUN ADP...\n",
       "6403     PROPN NOUN NOUN VERB NOUN ADP NOUN PART VERB N...\n",
       "89       SPACE PUNCT ADJ PUNCT PROPN PROPN PART PROPN P...\n",
       "23641    PROPN PROPN NOUN VERB ADV SCONJ PROPN PART ADJ...\n",
       "9607     PROPN PART NOUN NOUN VERB ADV VERB PROPN PART ...\n",
       "16219    PROPN VERB PART VERB PUNCT DET NOUN ADV PUNCT ...\n",
       "Name: Text_pos, dtype: object"
      ]
     },
     "execution_count": 18,
     "metadata": {},
     "output_type": "execute_result"
    }
   ],
   "source": [
    "y_data = data.Label\n",
    "y_data = y_data.astype('str')\n",
    "\n",
    "X_train, X_test, y_train, y_test = train_test_split(data['Text_pos'], y_data, test_size=0.2)\n",
    "X_train[:10]"
   ]
  },
  {
   "cell_type": "code",
   "execution_count": 19,
   "metadata": {},
   "outputs": [],
   "source": [
    "#Tf-idf Bigrams\n",
    "Tfidf_vectorizer = TfidfVectorizer(stop_words='english', ngram_range=(2,2))\n",
    "\n",
    "TF_IDF_train2 = Tfidf_vectorizer.fit_transform(X_train.astype('str'))\n",
    "TF_IDF_test2 = Tfidf_vectorizer.transform(X_test.astype('str'))\n",
    "\n",
    "pickle.dump(TF_IDF_train2, open('TF_IDF_train2.pickle', 'wb'))\n",
    "pickle.dump(TF_IDF_test2, open('TF_IDF_test2.pickle', 'wb'))"
   ]
  },
  {
   "cell_type": "code",
   "execution_count": 20,
   "metadata": {},
   "outputs": [
    {
     "data": {
      "text/plain": [
       "['verb intj',\n",
       " 'verb noun',\n",
       " 'verb num',\n",
       " 'verb pron',\n",
       " 'verb propn',\n",
       " 'verb punct',\n",
       " 'verb sconj',\n",
       " 'verb space',\n",
       " 'verb sym',\n",
       " 'verb verb']"
      ]
     },
     "execution_count": 20,
     "metadata": {},
     "output_type": "execute_result"
    }
   ],
   "source": [
    "Tfidf_vectorizer.get_feature_names()[-10:]"
   ]
  },
  {
   "cell_type": "code",
   "execution_count": 21,
   "metadata": {},
   "outputs": [
    {
     "name": "stdout",
     "output_type": "stream",
     "text": [
      "Accuracy with Multinomial Naive Bayes:   0.878\n"
     ]
    }
   ],
   "source": [
    "classifier = MultinomialNB()\n",
    "classifier.fit(TF_IDF_train2, y_train)\n",
    "\n",
    "pickle.dump(classifier, open('POS_NB', 'wb'))\n",
    "\n",
    "pred = classifier.predict(TF_IDF_test2)\n",
    "score = metrics.accuracy_score(y_test, pred)\n",
    "\n",
    "print(\"Accuracy with Multinomial Naive Bayes:   %0.3f\" % score)"
   ]
  },
  {
   "cell_type": "code",
   "execution_count": 22,
   "metadata": {},
   "outputs": [
    {
     "data": {
      "image/png": "[encoded data removed]",
      "text/plain": [
       "<Figure size 432x288 with 2 Axes>"
      ]
     },
     "metadata": {
      "needs_background": "light"
     },
     "output_type": "display_data"
    }
   ],
   "source": [
    "matrix = metrics.confusion_matrix(y_test, pred, labels=['FAKE', 'REAL'])\n",
    "generate_confusion_matrix(matrix, classes=['FAKE', 'REAL'])"
   ]
  },
  {
   "cell_type": "code",
   "execution_count": 23,
   "metadata": {},
   "outputs": [
    {
     "name": "stderr",
     "output_type": "stream",
     "text": [
      "/home/vinayak/.local/lib/python3.5/site-packages/sklearn/linear_model/logistic.py:432: FutureWarning: Default solver will be changed to 'lbfgs' in 0.22. Specify a solver to silence this warning.\n",
      "  FutureWarning)\n"
     ]
    },
    {
     "name": "stdout",
     "output_type": "stream",
     "text": [
      "Accuracy with Logistic regression classifier:   0.955\n"
     ]
    }
   ],
   "source": [
    "classifier = LogisticRegression()\n",
    "classifier.fit(TF_IDF_train2, y_train)\n",
    "\n",
    "pickle.dump(classifier, open('POS_LR', 'wb'))\n",
    "\n",
    "pred = classifier.predict(TF_IDF_test2)\n",
    "score = metrics.accuracy_score(y_test, pred)\n",
    "\n",
    "print(\"Accuracy with Logistic regression classifier:   %0.3f\" % score)"
   ]
  },
  {
   "cell_type": "code",
   "execution_count": 24,
   "metadata": {},
   "outputs": [
    {
     "data": {
      "image/png": "[encoded data removed]",
      "text/plain": [
       "<Figure size 432x288 with 2 Axes>"
      ]
     },
     "metadata": {
      "needs_background": "light"
     },
     "output_type": "display_data"
    }
   ],
   "source": [
    "matrix = metrics.confusion_matrix(y_test, pred, labels=['FAKE', 'REAL'])\n",
    "generate_confusion_matrix(matrix, classes=['FAKE', 'REAL'])"
   ]
  },
  {
   "cell_type": "code",
   "execution_count": 25,
   "metadata": {},
   "outputs": [
    {
     "name": "stderr",
     "output_type": "stream",
     "text": [
      "/home/vinayak/.local/lib/python3.5/site-packages/sklearn/ensemble/forest.py:245: FutureWarning: The default value of n_estimators will change from 10 in version 0.20 to 100 in 0.22.\n",
      "  \"10 in version 0.20 to 100 in 0.22.\", FutureWarning)\n"
     ]
    },
    {
     "name": "stdout",
     "output_type": "stream",
     "text": [
      "Accuracy with Random Forest Classifier:   0.945\n"
     ]
    }
   ],
   "source": [
    "classifier = RandomForestClassifier()\n",
    "classifier.fit(TF_IDF_train2, y_train)\n",
    "\n",
    "pickle.dump(classifier, open('POS_RF', 'wb'))\n",
    "\n",
    "pred = classifier.predict(TF_IDF_test2)\n",
    "score = metrics.accuracy_score(y_test, pred)\n",
    "\n",
    "print(\"Accuracy with Random Forest Classifier:   %0.3f\" % score)"
   ]
  },
  {
   "cell_type": "code",
   "execution_count": 26,
   "metadata": {},
   "outputs": [
    {
     "data": {
      "image/png": "[encoded data removed]",
      "text/plain": [
       "<Figure size 432x288 with 2 Axes>"
      ]
     },
     "metadata": {
      "needs_background": "light"
     },
     "output_type": "display_data"
    }
   ],
   "source": [
    "matrix = metrics.confusion_matrix(y_test, pred, labels=['FAKE', 'REAL'])\n",
    "generate_confusion_matrix(matrix, classes=['FAKE', 'REAL'])"
   ]
  },
  {
   "cell_type": "markdown",
   "metadata": {},
   "source": [
    "## Using Sentiments to classify Fake News"
   ]
  },
  {
   "cell_type": "code",
   "execution_count": 27,
   "metadata": {},
   "outputs": [],
   "source": [
    "#Getting the score of semantic categories generated by Empath of each article and generating a tfidf vector."
   ]
  },
  {
   "cell_type": "code",
   "execution_count": 28,
   "metadata": {},
   "outputs": [],
   "source": [
    "sentiment = Empath()\n",
    "semantic = []\n",
    "count = 0\n",
    "\n",
    "data['Text'] = data['Headline'].map(str) + data['Body']\n",
    "\n",
    "for article in data['Text']:\n",
    "    \n",
    "    if article == '':\n",
    "        continue\n",
    "    \n",
    "    count += 1\n",
    "    res = sentiment.analyze(article, normalize=False)\n",
    "    arr = []\n",
    "    for key, value in res.items():\n",
    "        arr.append(value)\n",
    "    \n",
    "    arr = np.array(arr)\n",
    "    semantic.append(arr)\n",
    "\n",
    "data['Semantics'] = semantic"
   ]
  },
  {
   "cell_type": "code",
   "execution_count": 29,
   "metadata": {},
   "outputs": [
    {
     "data": {
      "text/plain": [
       "array([1., 0., 0., 2., 0., 6., 0., 0., 0., 0., 0., 0., 0., 0., 0., 0., 0.,\n",
       "       0., 2., 0., 0., 0., 0., 3., 0., 0., 0., 1., 5., 0., 0., 0., 0., 5.,\n",
       "       0., 0., 0., 0., 0., 0., 0., 1., 7., 0., 0., 0., 0., 0., 0., 1., 0.,\n",
       "       0., 0., 0., 0., 2., 0., 0., 0., 0., 0., 0., 0., 0., 0., 1., 0., 0.,\n",
       "       1., 0., 2., 0., 0., 0., 1., 0., 0., 0., 0., 0., 0., 0., 0., 0., 0.,\n",
       "       0., 0., 0., 0., 0., 0., 0., 0., 0., 0., 0., 0., 0., 0., 0., 1., 1.,\n",
       "       1., 0., 0., 0., 0., 0., 1., 0., 0., 0., 1., 0., 0., 1., 0., 0., 1.,\n",
       "       0., 0., 0., 0., 0., 0., 0., 0., 0., 0., 0., 0., 0., 0., 0., 0., 0.,\n",
       "       0., 0., 0., 0., 1., 0., 0., 0., 0., 4., 0., 0., 0., 0., 0., 1., 0.,\n",
       "       0., 1., 0., 0., 0., 0., 1., 0., 0., 2., 0., 0., 1., 0., 0., 0., 0.,\n",
       "       0., 0., 0., 0., 0., 1., 1., 0., 0., 0., 0., 0., 1., 0., 0., 0., 0.,\n",
       "       0., 0., 0., 3., 0., 0., 0.])"
      ]
     },
     "execution_count": 29,
     "metadata": {},
     "output_type": "execute_result"
    }
   ],
   "source": [
    "semantic[0]"
   ]
  },
  {
   "cell_type": "code",
   "execution_count": 30,
   "metadata": {},
   "outputs": [
    {
     "data": {
      "text/plain": [
       "['business',\n",
       " 'dance',\n",
       " 'phone',\n",
       " 'government',\n",
       " 'poor',\n",
       " 'messaging',\n",
       " 'religion',\n",
       " 'monster',\n",
       " 'hipster',\n",
       " 'money',\n",
       " 'play',\n",
       " 'ship',\n",
       " 'domestic_work',\n",
       " 'crime',\n",
       " 'school',\n",
       " 'trust',\n",
       " 'affection',\n",
       " 'valuable',\n",
       " 'weapon',\n",
       " 'medical_emergency',\n",
       " 'positive_emotion',\n",
       " 'night',\n",
       " 'worship',\n",
       " 'military',\n",
       " 'horror',\n",
       " 'deception',\n",
       " 'order',\n",
       " 'payment',\n",
       " 'help',\n",
       " 'injury',\n",
       " 'masculine',\n",
       " 'hearing',\n",
       " 'family',\n",
       " 'war',\n",
       " 'violence',\n",
       " 'science',\n",
       " 'animal',\n",
       " 'fun',\n",
       " 'superhero',\n",
       " 'fashion',\n",
       " 'beauty',\n",
       " 'negotiate',\n",
       " 'social_media',\n",
       " 'cleaning',\n",
       " 'anonymity',\n",
       " 'sports',\n",
       " 'hate',\n",
       " 'leader',\n",
       " 'disgust',\n",
       " 'cooking',\n",
       " 'journalism',\n",
       " 'office',\n",
       " 'internet',\n",
       " 'programming',\n",
       " 'swimming',\n",
       " 'speaking',\n",
       " 'warmth',\n",
       " 'sadness',\n",
       " 'dominant_heirarchical',\n",
       " 'car',\n",
       " 'divine',\n",
       " 'listen',\n",
       " 'childish',\n",
       " 'furniture',\n",
       " 'competing',\n",
       " 'work',\n",
       " 'plant',\n",
       " 'exotic',\n",
       " 'death',\n",
       " 'love',\n",
       " 'traveling',\n",
       " 'feminine',\n",
       " 'white_collar_job',\n",
       " 'ugliness',\n",
       " 'royalty',\n",
       " 'sleep',\n",
       " 'noise',\n",
       " 'negative_emotion',\n",
       " 'weather',\n",
       " 'eating',\n",
       " 'exercise',\n",
       " 'real_estate',\n",
       " 'youth',\n",
       " 'sound',\n",
       " 'friends',\n",
       " 'timidity',\n",
       " 'lust',\n",
       " 'economics',\n",
       " 'occupation',\n",
       " 'optimism',\n",
       " 'nervousness',\n",
       " 'kill',\n",
       " 'zest',\n",
       " 'sailing',\n",
       " 'confusion',\n",
       " 'shame',\n",
       " 'neglect',\n",
       " 'aggression',\n",
       " 'rage',\n",
       " 'pride',\n",
       " 'politics',\n",
       " 'children',\n",
       " 'banking',\n",
       " 'ocean',\n",
       " 'celebration',\n",
       " 'party',\n",
       " 'toy',\n",
       " 'home',\n",
       " 'wealthy',\n",
       " 'beach',\n",
       " 'shape_and_size',\n",
       " 'cold',\n",
       " 'giving',\n",
       " 'blue_collar_job',\n",
       " 'politeness',\n",
       " 'air_travel',\n",
       " 'strength',\n",
       " 'water',\n",
       " 'independence',\n",
       " 'art',\n",
       " 'farming',\n",
       " 'envy',\n",
       " 'pet',\n",
       " 'restaurant',\n",
       " 'medieval',\n",
       " 'heroic',\n",
       " 'contentment',\n",
       " 'irritability',\n",
       " 'emotional',\n",
       " 'stealing',\n",
       " 'leisure',\n",
       " 'exasperation',\n",
       " 'shopping',\n",
       " 'communication',\n",
       " 'dominant_personality',\n",
       " 'achievement',\n",
       " 'musical',\n",
       " 'body',\n",
       " 'rural',\n",
       " 'fabric',\n",
       " 'terrorism',\n",
       " 'anger',\n",
       " 'hygiene',\n",
       " 'cheerfulness',\n",
       " 'driving',\n",
       " 'dispute',\n",
       " 'vehicle',\n",
       " 'tourism',\n",
       " 'writing',\n",
       " 'fear',\n",
       " 'liquid',\n",
       " 'vacation',\n",
       " 'legend',\n",
       " 'music',\n",
       " 'law',\n",
       " 'reading',\n",
       " 'smell',\n",
       " 'ancient',\n",
       " 'joy',\n",
       " 'wedding',\n",
       " 'movement',\n",
       " 'technology',\n",
       " 'philosophy',\n",
       " 'attractive',\n",
       " 'fire',\n",
       " 'college',\n",
       " 'hiking',\n",
       " 'morning',\n",
       " 'surprise',\n",
       " 'weakness',\n",
       " 'magic',\n",
       " 'clothing',\n",
       " 'prison',\n",
       " 'anticipation',\n",
       " 'healing',\n",
       " 'power',\n",
       " 'urban',\n",
       " 'appearance',\n",
       " 'ridicule',\n",
       " 'sympathy',\n",
       " 'alcohol',\n",
       " 'torment',\n",
       " 'meeting',\n",
       " 'computer',\n",
       " 'swearing_terms',\n",
       " 'disappointment',\n",
       " 'breaking',\n",
       " 'tool',\n",
       " 'sexual',\n",
       " 'suffering',\n",
       " 'fight',\n",
       " 'pain',\n",
       " 'health',\n",
       " 'gain']"
      ]
     },
     "execution_count": 30,
     "metadata": {},
     "output_type": "execute_result"
    }
   ],
   "source": [
    "categories = []\n",
    "a = sentiment.analyze(\"\")\n",
    "for key, value in a.items():\n",
    "    categories.append(key)\n",
    "categories"
   ]
  },
  {
   "cell_type": "code",
   "execution_count": 31,
   "metadata": {},
   "outputs": [
    {
     "data": {
      "text/plain": [
       "194"
      ]
     },
     "execution_count": 31,
     "metadata": {},
     "output_type": "execute_result"
    }
   ],
   "source": [
    "len(categories)"
   ]
  },
  {
   "cell_type": "code",
   "execution_count": 32,
   "metadata": {},
   "outputs": [],
   "source": [
    "sem = []\n",
    "\n",
    "for i in range(data.shape[0]):\n",
    "    \n",
    "    a = []\n",
    "    for j in range(len(semantic[0])):\n",
    "        for k in range(int(semantic[i][j])):     ## each semantic of every word in every article\n",
    "            a.append(categories[j])\n",
    "        \n",
    "    b = \" \".join(a)\n",
    "    sem.append(b)\n",
    "\n",
    "data['Sentiments'] = sem\n",
    "data.to_pickle('Sentiments.pkl')"
   ]
  },
  {
   "cell_type": "code",
   "execution_count": 33,
   "metadata": {},
   "outputs": [
    {
     "data": {
      "text/plain": [
       "'business government government messaging messaging messaging messaging messaging messaging weapon weapon military military military payment help help help help help war war war war war negotiate social_media social_media social_media social_media social_media social_media social_media cooking speaking speaking work death traveling traveling royalty politics children banking wealthy giving air_travel independence terrorism dispute dispute dispute dispute vacation law wedding philosophy philosophy college power urban meeting fight fight fight'"
      ]
     },
     "execution_count": 33,
     "metadata": {},
     "output_type": "execute_result"
    }
   ],
   "source": [
    "sem[0]"
   ]
  },
  {
   "cell_type": "code",
   "execution_count": 48,
   "metadata": {},
   "outputs": [
    {
     "name": "stdout",
     "output_type": "stream",
     "text": [
      "Index(['Headline', 'Body', 'Label', 'Text', 'Text_pos', 'Semantics',\n",
      "       'Sentiments'],\n",
      "      dtype='object')\n",
      "(39105, 7)\n"
     ]
    }
   ],
   "source": [
    "df = pd.read_pickle('Sentiments.pkl')\n",
    "print(df.columns)\n",
    "print(df.shape)"
   ]
  },
  {
   "cell_type": "code",
   "execution_count": 49,
   "metadata": {},
   "outputs": [],
   "source": [
    "y_data = df.Label\n",
    "y_data = y_data.astype('str')\n",
    "X_train, X_test, y_train, y_test = train_test_split(df['Semantics'], y_data, test_size=0.33)"
   ]
  },
  {
   "cell_type": "code",
   "execution_count": 50,
   "metadata": {},
   "outputs": [
    {
     "data": {
      "text/plain": [
       "15559    [1.0, 0.0, 1.0, 1.0, 0.0, 0.0, 0.0, 0.0, 0.0, ...\n",
       "8121     [2.0, 1.0, 0.0, 1.0, 1.0, 0.0, 0.0, 0.0, 0.0, ...\n",
       "24094    [3.0, 1.0, 1.0, 1.0, 0.0, 1.0, 1.0, 0.0, 0.0, ...\n",
       "40709    [4.0, 0.0, 2.0, 6.0, 0.0, 2.0, 5.0, 0.0, 2.0, ...\n",
       "33085    [0.0, 0.0, 0.0, 0.0, 0.0, 0.0, 0.0, 0.0, 0.0, ...\n",
       "8094     [0.0, 0.0, 1.0, 0.0, 0.0, 0.0, 0.0, 0.0, 0.0, ...\n",
       "20277    [4.0, 0.0, 1.0, 5.0, 0.0, 3.0, 0.0, 0.0, 0.0, ...\n",
       "14091    [0.0, 0.0, 2.0, 0.0, 0.0, 1.0, 0.0, 0.0, 0.0, ...\n",
       "12718    [0.0, 0.0, 0.0, 0.0, 0.0, 0.0, 0.0, 0.0, 0.0, ...\n",
       "15832    [4.0, 1.0, 0.0, 7.0, 0.0, 5.0, 0.0, 0.0, 0.0, ...\n",
       "29047    [3.0, 0.0, 1.0, 7.0, 0.0, 1.0, 1.0, 0.0, 0.0, ...\n",
       "9648     [5.0, 1.0, 1.0, 3.0, 0.0, 0.0, 0.0, 0.0, 0.0, ...\n",
       "437      [1.0, 0.0, 0.0, 4.0, 0.0, 0.0, 3.0, 0.0, 1.0, ...\n",
       "25889    [2.0, 0.0, 0.0, 2.0, 0.0, 2.0, 0.0, 0.0, 0.0, ...\n",
       "11692    [5.0, 0.0, 1.0, 2.0, 0.0, 1.0, 0.0, 0.0, 3.0, ...\n",
       "24601    [5.0, 0.0, 1.0, 12.0, 4.0, 1.0, 0.0, 0.0, 0.0,...\n",
       "22117    [5.0, 0.0, 0.0, 8.0, 2.0, 1.0, 0.0, 0.0, 0.0, ...\n",
       "20970    [1.0, 0.0, 1.0, 1.0, 0.0, 0.0, 0.0, 0.0, 0.0, ...\n",
       "40156    [0.0, 0.0, 0.0, 0.0, 0.0, 0.0, 0.0, 0.0, 0.0, ...\n",
       "14512    [4.0, 0.0, 0.0, 8.0, 0.0, 0.0, 0.0, 0.0, 0.0, ...\n",
       "40491    [0.0, 0.0, 0.0, 0.0, 0.0, 0.0, 0.0, 0.0, 0.0, ...\n",
       "3627     [0.0, 0.0, 7.0, 0.0, 0.0, 1.0, 0.0, 1.0, 0.0, ...\n",
       "43781    [0.0, 0.0, 1.0, 0.0, 0.0, 2.0, 2.0, 0.0, 0.0, ...\n",
       "17513    [0.0, 0.0, 2.0, 0.0, 0.0, 3.0, 0.0, 0.0, 0.0, ...\n",
       "9721     [0.0, 0.0, 2.0, 0.0, 0.0, 0.0, 0.0, 0.0, 0.0, ...\n",
       "39257    [0.0, 0.0, 0.0, 0.0, 0.0, 1.0, 0.0, 0.0, 1.0, ...\n",
       "19841    [0.0, 0.0, 0.0, 2.0, 0.0, 0.0, 0.0, 0.0, 0.0, ...\n",
       "36260    [1.0, 0.0, 0.0, 0.0, 0.0, 1.0, 0.0, 0.0, 0.0, ...\n",
       "44319    [0.0, 0.0, 0.0, 0.0, 0.0, 0.0, 0.0, 0.0, 0.0, ...\n",
       "15846    [0.0, 0.0, 0.0, 1.0, 0.0, 1.0, 0.0, 0.0, 0.0, ...\n",
       "                               ...                        \n",
       "36708    [0.0, 0.0, 1.0, 2.0, 0.0, 3.0, 0.0, 0.0, 0.0, ...\n",
       "7033     [0.0, 0.0, 1.0, 0.0, 0.0, 0.0, 1.0, 0.0, 0.0, ...\n",
       "18108    [3.0, 1.0, 3.0, 3.0, 0.0, 3.0, 0.0, 1.0, 0.0, ...\n",
       "10946    [1.0, 2.0, 3.0, 3.0, 1.0, 3.0, 0.0, 0.0, 0.0, ...\n",
       "2241     [4.0, 0.0, 1.0, 6.0, 2.0, 4.0, 1.0, 0.0, 0.0, ...\n",
       "27636    [3.0, 0.0, 1.0, 5.0, 0.0, 3.0, 0.0, 0.0, 1.0, ...\n",
       "19550    [2.0, 0.0, 0.0, 12.0, 1.0, 1.0, 0.0, 0.0, 0.0,...\n",
       "13636    [2.0, 0.0, 0.0, 1.0, 1.0, 0.0, 0.0, 0.0, 0.0, ...\n",
       "41426    [1.0, 0.0, 3.0, 4.0, 0.0, 3.0, 0.0, 0.0, 0.0, ...\n",
       "9116     [1.0, 0.0, 0.0, 3.0, 1.0, 0.0, 0.0, 0.0, 0.0, ...\n",
       "26481    [2.0, 0.0, 0.0, 3.0, 0.0, 0.0, 0.0, 0.0, 0.0, ...\n",
       "44702    [3.0, 0.0, 1.0, 4.0, 0.0, 0.0, 0.0, 0.0, 0.0, ...\n",
       "33476    [2.0, 1.0, 0.0, 0.0, 0.0, 0.0, 0.0, 0.0, 0.0, ...\n",
       "12403    [0.0, 1.0, 0.0, 2.0, 1.0, 0.0, 0.0, 0.0, 0.0, ...\n",
       "31397    [1.0, 0.0, 0.0, 1.0, 0.0, 0.0, 0.0, 0.0, 0.0, ...\n",
       "37374    [1.0, 0.0, 2.0, 6.0, 0.0, 5.0, 0.0, 0.0, 0.0, ...\n",
       "21416    [1.0, 0.0, 5.0, 2.0, 0.0, 0.0, 0.0, 1.0, 0.0, ...\n",
       "24173    [2.0, 0.0, 4.0, 5.0, 1.0, 3.0, 0.0, 0.0, 0.0, ...\n",
       "2035     [4.0, 2.0, 0.0, 7.0, 1.0, 0.0, 1.0, 0.0, 0.0, ...\n",
       "27121    [3.0, 0.0, 1.0, 3.0, 0.0, 1.0, 0.0, 0.0, 0.0, ...\n",
       "8962     [5.0, 0.0, 0.0, 2.0, 6.0, 0.0, 0.0, 0.0, 0.0, ...\n",
       "34073    [3.0, 0.0, 0.0, 2.0, 1.0, 1.0, 0.0, 0.0, 0.0, ...\n",
       "32276    [0.0, 1.0, 0.0, 0.0, 2.0, 1.0, 0.0, 0.0, 0.0, ...\n",
       "2686     [0.0, 0.0, 0.0, 0.0, 1.0, 0.0, 0.0, 0.0, 0.0, ...\n",
       "7112     [3.0, 0.0, 2.0, 5.0, 0.0, 2.0, 0.0, 0.0, 0.0, ...\n",
       "22885    [2.0, 0.0, 0.0, 0.0, 0.0, 0.0, 0.0, 0.0, 0.0, ...\n",
       "36219    [6.0, 0.0, 3.0, 12.0, 0.0, 0.0, 1.0, 0.0, 0.0,...\n",
       "33623    [2.0, 0.0, 0.0, 4.0, 0.0, 1.0, 0.0, 3.0, 0.0, ...\n",
       "27139    [0.0, 0.0, 1.0, 6.0, 0.0, 0.0, 0.0, 0.0, 0.0, ...\n",
       "37860    [4.0, 0.0, 0.0, 12.0, 0.0, 1.0, 0.0, 0.0, 0.0,...\n",
       "Name: Semantics, Length: 26200, dtype: object"
      ]
     },
     "execution_count": 50,
     "metadata": {},
     "output_type": "execute_result"
    }
   ],
   "source": [
    "X_train"
   ]
  },
  {
   "cell_type": "code",
   "execution_count": 51,
   "metadata": {},
   "outputs": [],
   "source": [
    "#Tf-idf Unigrams\n",
    "Tfidf_vectorizer = TfidfVectorizer(stop_words='english', ngram_range=(1,1))\n",
    "\n",
    "TF_IDF_train3 = Tfidf_vectorizer.fit_transform(X_train.astype('str'))\n",
    "TF_IDF_test3 = Tfidf_vectorizer.transform(X_test.astype('str'))\n",
    "\n",
    "pickle.dump(TF_IDF_train3, open('TF_IDF_train3.pickle', 'wb'))\n",
    "pickle.dump(TF_IDF_test3, open('TF_IDF_test3.pickle', 'wb'))"
   ]
  },
  {
   "cell_type": "code",
   "execution_count": 52,
   "metadata": {},
   "outputs": [
    {
     "data": {
      "text/plain": [
       "['80', '81', '82', '83', '84', '87', '88', '90', '92', '94']"
      ]
     },
     "execution_count": 52,
     "metadata": {},
     "output_type": "execute_result"
    }
   ],
   "source": [
    "Tfidf_vectorizer.get_feature_names()[-10:]"
   ]
  },
  {
   "cell_type": "code",
   "execution_count": 59,
   "metadata": {},
   "outputs": [
    {
     "name": "stdout",
     "output_type": "stream",
     "text": [
      "Accuracy with Multinomial Naive Bayes:   0.781\n"
     ]
    }
   ],
   "source": [
    "# NO NEED TO USE VECTORIZATION ON SENTIMENTS AS THEY HAVE ALREADY BEEN VECTORIZED IN WORD EMBEDDINGS OF SEMANTICS\n",
    "\n",
    "classifier = MultinomialNB()\n",
    "classifier.fit(X_train.to_list(), y_train)\n",
    "\n",
    "pickle.dump(classifier, open('SENT_NB', 'wb'))\n",
    "\n",
    "pred = classifier.predict(X_test.to_list())\n",
    "score = metrics.accuracy_score(y_test, pred)\n",
    "\n",
    "print(\"Accuracy with Multinomial Naive Bayes:   %0.3f\" % score)"
   ]
  },
  {
   "cell_type": "code",
   "execution_count": 60,
   "metadata": {},
   "outputs": [
    {
     "data": {
      "image/png": "[encoded data removed]",
      "text/plain": [
       "<Figure size 432x288 with 2 Axes>"
      ]
     },
     "metadata": {
      "needs_background": "light"
     },
     "output_type": "display_data"
    }
   ],
   "source": [
    "matrix = metrics.confusion_matrix(y_test, pred, labels=['FAKE', 'REAL'])\n",
    "generate_confusion_matrix(matrix, classes=['FAKE', 'REAL'])"
   ]
  },
  {
   "cell_type": "code",
   "execution_count": 61,
   "metadata": {},
   "outputs": [
    {
     "name": "stderr",
     "output_type": "stream",
     "text": [
      "/home/vinayak/.local/lib/python3.5/site-packages/sklearn/linear_model/logistic.py:432: FutureWarning: Default solver will be changed to 'lbfgs' in 0.22. Specify a solver to silence this warning.\n",
      "  FutureWarning)\n"
     ]
    },
    {
     "name": "stdout",
     "output_type": "stream",
     "text": [
      "Accuracy with Logistic regression classifier:   0.824\n"
     ]
    }
   ],
   "source": [
    "classifier = LogisticRegression()\n",
    "classifier.fit(X_train.to_list(), y_train)\n",
    "\n",
    "pickle.dump(classifier, open('SENT_LR', 'wb'))\n",
    "\n",
    "pred = classifier.predict(X_test.to_list())\n",
    "score = metrics.accuracy_score(y_test, pred)\n",
    "\n",
    "print(\"Accuracy with Logistic regression classifier:   %0.3f\" % score)"
   ]
  },
  {
   "cell_type": "code",
   "execution_count": 62,
   "metadata": {},
   "outputs": [
    {
     "data": {
      "image/png": "[encoded data removed]",
      "text/plain": [
       "<Figure size 432x288 with 2 Axes>"
      ]
     },
     "metadata": {
      "needs_background": "light"
     },
     "output_type": "display_data"
    }
   ],
   "source": [
    "matrix = metrics.confusion_matrix(y_test, pred, labels=['FAKE', 'REAL'])\n",
    "generate_confusion_matrix(matrix, classes=['FAKE', 'REAL'])"
   ]
  },
  {
   "cell_type": "code",
   "execution_count": 63,
   "metadata": {},
   "outputs": [
    {
     "name": "stderr",
     "output_type": "stream",
     "text": [
      "/home/vinayak/.local/lib/python3.5/site-packages/sklearn/ensemble/forest.py:245: FutureWarning: The default value of n_estimators will change from 10 in version 0.20 to 100 in 0.22.\n",
      "  \"10 in version 0.20 to 100 in 0.22.\", FutureWarning)\n"
     ]
    },
    {
     "name": "stdout",
     "output_type": "stream",
     "text": [
      "Accuracy with Random Forest Classifier:   0.811\n"
     ]
    }
   ],
   "source": [
    "classifier = RandomForestClassifier()\n",
    "classifier.fit(X_train.to_list(), y_train)\n",
    "\n",
    "pickle.dump(classifier, open('SENT_RF', 'wb'))\n",
    "\n",
    "pred = classifier.predict(X_test.to_list())\n",
    "score = metrics.accuracy_score(y_test, pred)\n",
    "\n",
    "print(\"Accuracy with Random Forest Classifier:   %0.3f\" % score)"
   ]
  },
  {
   "cell_type": "code",
   "execution_count": 64,
   "metadata": {},
   "outputs": [
    {
     "data": {
      "image/png": "[encoded data removed]",
      "text/plain": [
       "<Figure size 432x288 with 2 Axes>"
      ]
     },
     "metadata": {
      "needs_background": "light"
     },
     "output_type": "display_data"
    }
   ],
   "source": [
    "matrix = metrics.confusion_matrix(y_test, pred, labels=['FAKE', 'REAL'])\n",
    "generate_confusion_matrix(matrix, classes=['FAKE', 'REAL'])"
   ]
  },
  {
   "cell_type": "markdown",
   "metadata": {},
   "source": [
    "## Combining these 3 parameters to build a final model"
   ]
  },
  {
   "cell_type": "code",
   "execution_count": 104,
   "metadata": {},
   "outputs": [
    {
     "name": "stdout",
     "output_type": "stream",
     "text": [
      "Index(['Headline', 'Body', 'Label', 'Text', 'Text_pos', 'Semantics',\n",
      "       'Sentiments'],\n",
      "      dtype='object')\n",
      "(39105, 7)\n"
     ]
    }
   ],
   "source": [
    "data = pd.read_pickle('Sentiments.pkl')\n",
    "print(data.columns)\n",
    "print(data.shape)"
   ]
  },
  {
   "cell_type": "code",
   "execution_count": 105,
   "metadata": {},
   "outputs": [],
   "source": [
    "y_data = data.Label\n",
    "X_train, X_test, y_train, y_test = train_test_split(data, y_data, test_size=0.33)"
   ]
  },
  {
   "cell_type": "code",
   "execution_count": 106,
   "metadata": {},
   "outputs": [],
   "source": [
    "X_train_text = X_train['Text']\n",
    "X_test_text = X_test['Text']\n",
    "\n",
    "X_train_text_pos = X_train['Text_pos']\n",
    "X_test_text_pos = X_test['Text_pos']\n",
    "\n",
    "X_train_semantics = X_train['Semantics']\n",
    "X_test_semantics = X_test['Semantics']"
   ]
  },
  {
   "cell_type": "code",
   "execution_count": 107,
   "metadata": {},
   "outputs": [],
   "source": [
    "#Tf-idf Bigrams\n",
    "Tfidf_vectorizer = TfidfVectorizer(stop_words='english', ngram_range=(2,2))\n",
    "\n",
    "TF_IDF_train1 = Tfidf_vectorizer.fit_transform(X_train_text.astype('str'))\n",
    "TF_IDF_test1 = Tfidf_vectorizer.transform(X_test_text.astype('str'))\n",
    "\n",
    "pickle.dump(TF_IDF_train1, open('TF_IDF_train1.pickle', 'wb'))\n",
    "pickle.dump(TF_IDF_test1, open('TF_IDF_test1.pickle', 'wb'))"
   ]
  },
  {
   "cell_type": "code",
   "execution_count": 108,
   "metadata": {},
   "outputs": [],
   "source": [
    "#Tf-idf Bigrams\n",
    "Tfidf_vectorizer = TfidfVectorizer(stop_words='english', ngram_range=(2,2))\n",
    "\n",
    "TF_IDF_train2 = Tfidf_vectorizer.fit_transform(X_train_text_pos.astype('str'))\n",
    "TF_IDF_test2 = Tfidf_vectorizer.transform(X_test_text_pos.astype('str'))\n",
    "\n",
    "pickle.dump(TF_IDF_train2, open('TF_IDF_train2.pickle', 'wb'))\n",
    "pickle.dump(TF_IDF_test2, open('TF_IDF_test2.pickle', 'wb'))"
   ]
  },
  {
   "cell_type": "code",
   "execution_count": 109,
   "metadata": {},
   "outputs": [],
   "source": [
    "#Tf-idf Unigrams\n",
    "Tfidf_vectorizer = TfidfVectorizer(stop_words='english', ngram_range=(1,1))\n",
    "\n",
    "TF_IDF_train3 = Tfidf_vectorizer.fit_transform(X_train_semantics.astype('str'))\n",
    "TF_IDF_test3 = Tfidf_vectorizer.transform(X_test_semantics.astype('str'))\n",
    "\n",
    "pickle.dump(TF_IDF_train3, open('TF_IDF_train3.pickle', 'wb'))\n",
    "pickle.dump(TF_IDF_test3, open('TF_IDF_test3.pickle', 'wb'))"
   ]
  },
  {
   "cell_type": "code",
   "execution_count": 110,
   "metadata": {},
   "outputs": [],
   "source": [
    "# The three vector features\n",
    "\n",
    "train1 = TF_IDF_train1\n",
    "test1 = TF_IDF_test1\n",
    "\n",
    "train2 = TF_IDF_train2\n",
    "test2 = TF_IDF_test2\n",
    "\n",
    "train3 = TF_IDF_train3\n",
    "test3 = TF_IDF_test3"
   ]
  },
  {
   "cell_type": "code",
   "execution_count": 111,
   "metadata": {},
   "outputs": [],
   "source": [
    "#Giving weights to each of the 3 feature vectors generated\n",
    "\n",
    "big_w = 0.35\n",
    "synt_w = 0.5\n",
    "sem_w = 0.15\n",
    "big_w *= 3\n",
    "synt_w *= 3\n",
    "sem_w *= 3\n",
    "\n",
    "TF_IDF_train1 = big_w*train1\n",
    "TF_IDF_test1 = big_w*test1\n",
    "\n",
    "TF_IDF_train2 = synt_w*train2\n",
    "TF_IDF_test2 = synt_w*test2\n",
    "\n",
    "TF_IDF_train3 = sem_w*train3\n",
    "TF_IDF_test3 = sem_w*test3"
   ]
  },
  {
   "cell_type": "code",
   "execution_count": 112,
   "metadata": {},
   "outputs": [],
   "source": [
    "import scipy.sparse as sp\n",
    "\n",
    "diff_n_rows = TF_IDF_train2.shape[0] - TF_IDF_train1.shape[0]\n",
    "\n",
    "Xb_new = sp.vstack((TF_IDF_train1, sp.csr_matrix((diff_n_rows, TF_IDF_train1.shape[1])))) \n",
    "#where diff_n_rows is the difference of the number of rows between Xa and Xb\n",
    "\n",
    "c = sp.hstack((TF_IDF_train2, Xb_new))\n",
    "\n",
    "diff_n_rows = c.shape[0] - TF_IDF_train3.shape[0]\n",
    "\n",
    "Xb_new = sp.vstack((TF_IDF_train3, sp.csr_matrix((diff_n_rows, TF_IDF_train3.shape[1])))) \n",
    "#where diff_n_rows is the difference of the number of rows between Xa and Xb\n",
    "\n",
    "X = sp.hstack((c, Xb_new))\n",
    "X\n",
    "\n",
    "dif_n_rows = TF_IDF_test2.shape[0] - TF_IDF_test1.shape[0]\n",
    "\n",
    "Xb_ne = sp.vstack((TF_IDF_test1, sp.csr_matrix((dif_n_rows, TF_IDF_test1.shape[1])))) \n",
    "#where diff_n_rows is the difference of the number of rows between Xa and Xb\n",
    "\n",
    "d = sp.hstack((TF_IDF_test2, Xb_ne))\n",
    "\n",
    "dif_n_rows = d.shape[0] - TF_IDF_test3.shape[0]\n",
    "\n",
    "Xb_ne = sp.vstack((TF_IDF_test3, sp.csr_matrix((dif_n_rows, TF_IDF_test3.shape[1])))) \n",
    "#where diff_n_rows is the difference of the number of rows between Xa and Xb\n",
    "\n",
    "Y = sp.hstack((d, Xb_ne))"
   ]
  },
  {
   "cell_type": "code",
   "execution_count": 113,
   "metadata": {},
   "outputs": [
    {
     "name": "stdout",
     "output_type": "stream",
     "text": [
      "Accuracy with Multinomial Naive Bayes:   0.913\n"
     ]
    }
   ],
   "source": [
    "classifier = MultinomialNB()\n",
    "classifier.fit(X, y_train)\n",
    "\n",
    "pickle.dump(classifier, open('Bi_POS_SENT_NB', 'wb'))\n",
    "\n",
    "pred = classifier.predict(Y)\n",
    "score = metrics.accuracy_score(y_test, pred)\n",
    "\n",
    "print(\"Accuracy with Multinomial Naive Bayes:   %0.3f\" % score)"
   ]
  },
  {
   "cell_type": "code",
   "execution_count": 114,
   "metadata": {},
   "outputs": [
    {
     "data": {
      "image/png": "[encoded data removed]",
      "text/plain": [
       "<Figure size 432x288 with 2 Axes>"
      ]
     },
     "metadata": {
      "needs_background": "light"
     },
     "output_type": "display_data"
    }
   ],
   "source": [
    "matrix = metrics.confusion_matrix(y_test, pred, labels=['FAKE', 'REAL'])\n",
    "generate_confusion_matrix(matrix, classes=['FAKE', 'REAL'])"
   ]
  },
  {
   "cell_type": "code",
   "execution_count": 115,
   "metadata": {},
   "outputs": [
    {
     "name": "stderr",
     "output_type": "stream",
     "text": [
      "/home/vinayak/.local/lib/python3.5/site-packages/sklearn/linear_model/logistic.py:432: FutureWarning: Default solver will be changed to 'lbfgs' in 0.22. Specify a solver to silence this warning.\n",
      "  FutureWarning)\n"
     ]
    },
    {
     "name": "stdout",
     "output_type": "stream",
     "text": [
      "Accuracy with Logistic regression classifier:   0.968\n"
     ]
    }
   ],
   "source": [
    "classifier = LogisticRegression()\n",
    "classifier.fit(X, y_train)\n",
    "\n",
    "pickle.dump(classifier, open('Bi_POS_SENT_LR', 'wb'))\n",
    "\n",
    "pred = classifier.predict(Y)\n",
    "score = metrics.accuracy_score(y_test, pred)\n",
    "\n",
    "print(\"Accuracy with Logistic regression classifier:   %0.3f\" % score)"
   ]
  },
  {
   "cell_type": "code",
   "execution_count": 116,
   "metadata": {},
   "outputs": [
    {
     "data": {
      "image/png": "[encoded data removed]",
      "text/plain": [
       "<Figure size 432x288 with 2 Axes>"
      ]
     },
     "metadata": {
      "needs_background": "light"
     },
     "output_type": "display_data"
    }
   ],
   "source": [
    "matrix = metrics.confusion_matrix(y_test, pred, labels=['FAKE', 'REAL'])\n",
    "generate_confusion_matrix(matrix, classes=['FAKE', 'REAL'])"
   ]
  },
  {
   "cell_type": "code",
   "execution_count": 117,
   "metadata": {},
   "outputs": [
    {
     "name": "stderr",
     "output_type": "stream",
     "text": [
      "/home/vinayak/.local/lib/python3.5/site-packages/sklearn/ensemble/forest.py:245: FutureWarning: The default value of n_estimators will change from 10 in version 0.20 to 100 in 0.22.\n",
      "  \"10 in version 0.20 to 100 in 0.22.\", FutureWarning)\n"
     ]
    },
    {
     "name": "stdout",
     "output_type": "stream",
     "text": [
      "Accuracy with Random Forest Classifier:   0.915\n"
     ]
    }
   ],
   "source": [
    "classifier = RandomForestClassifier()\n",
    "classifier.fit(X, y_train)\n",
    "\n",
    "pickle.dump(classifier, open('Bi_POS_SENT_RF', 'wb'))\n",
    "\n",
    "pred = classifier.predict(Y)\n",
    "score = metrics.accuracy_score(y_test, pred)\n",
    "\n",
    "print(\"Accuracy with Random Forest Classifier:   %0.3f\" % score)"
   ]
  },
  {
   "cell_type": "code",
   "execution_count": 118,
   "metadata": {},
   "outputs": [
    {
     "data": {
      "image/png": "[encoded data removed]",
      "text/plain": [
       "<Figure size 432x288 with 2 Axes>"
      ]
     },
     "metadata": {
      "needs_background": "light"
     },
     "output_type": "display_data"
    }
   ],
   "source": [
    "matrix = metrics.confusion_matrix(y_test, pred, labels=['FAKE', 'REAL'])\n",
    "generate_confusion_matrix(matrix, classes=['FAKE', 'REAL'])"
   ]
  },
  {
   "cell_type": "code",
   "execution_count": null,
   "metadata": {},
   "outputs": [],
   "source": []
  },
  {
   "cell_type": "code",
   "execution_count": null,
   "metadata": {},
   "outputs": [],
   "source": []
  },
  {
   "cell_type": "code",
   "execution_count": null,
   "metadata": {},
   "outputs": [],
   "source": []
  }
 ],
 "metadata": {
  "kernelspec": {
   "display_name": "Python 3",
   "language": "python",
   "name": "python3"
  },
  "language_info": {
   "codemirror_mode": {
    "name": "ipython",
    "version": 3
   },
   "file_extension": ".py",
   "mimetype": "text/x-python",
   "name": "python",
   "nbconvert_exporter": "python",
   "pygments_lexer": "ipython3",
   "version": "3.5.2"
  }
 },
 "nbformat": 4,
 "nbformat_minor": 2
}
